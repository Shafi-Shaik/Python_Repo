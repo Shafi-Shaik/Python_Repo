{
 "cells": [
  {
   "cell_type": "code",
   "execution_count": 1,
   "id": "f99749e6",
   "metadata": {},
   "outputs": [],
   "source": [
    "import pandas as pd\n",
    "import numpy as np\n",
    "import os as os"
   ]
  },
  {
   "cell_type": "code",
   "execution_count": 2,
   "id": "425fec16",
   "metadata": {},
   "outputs": [
    {
     "data": {
      "text/plain": [
       "['olist_customers_dataset.csv',\n",
       " 'olist_geolocation_dataset.csv',\n",
       " 'olist_orders_dataset.csv',\n",
       " 'olist_order_items_dataset.csv',\n",
       " 'olist_order_payments_dataset.csv',\n",
       " 'olist_order_reviews_dataset.csv',\n",
       " 'olist_products_dataset.csv',\n",
       " 'olist_sellers_dataset.csv',\n",
       " 'product_category_name_translation.csv']"
      ]
     },
     "execution_count": 2,
     "metadata": {},
     "output_type": "execute_result"
    }
   ],
   "source": [
    "cwd= os.getcwd()\n",
    "data_list = os.listdir(os.getcwd()+'\\data')\n",
    "data_list"
   ]
  },
  {
   "cell_type": "code",
   "execution_count": 3,
   "id": "0c6b1701",
   "metadata": {},
   "outputs": [
    {
     "data": {
      "text/plain": [
       "['olist_customers_dataset',\n",
       " 'olist_geolocation_dataset',\n",
       " 'olist_orders_dataset',\n",
       " 'olist_order_items_dataset',\n",
       " 'olist_order_payments_dataset',\n",
       " 'olist_order_reviews_dataset',\n",
       " 'olist_products_dataset',\n",
       " 'olist_sellers_dataset',\n",
       " 'product_category_name_translation']"
      ]
     },
     "execution_count": 3,
     "metadata": {},
     "output_type": "execute_result"
    }
   ],
   "source": [
    "df_list=[]\n",
    "for i in data_list:\n",
    "    df_list.append((i.split('.')[0]))\n",
    "df_list\n"
   ]
  },
  {
   "cell_type": "code",
   "execution_count": 4,
   "id": "d1f672fa",
   "metadata": {},
   "outputs": [],
   "source": [
    "for i in range(len(data_list)):\n",
    "    df_list[i]=pd.read_csv(os.getcwd()+'\\\\data\\\\'+data_list[i])\n",
    "    "
   ]
  },
  {
   "cell_type": "code",
   "execution_count": 68,
   "id": "0da8fcdd",
   "metadata": {},
   "outputs": [
    {
     "data": {
      "text/html": [
       "<div>\n",
       "<style scoped>\n",
       "    .dataframe tbody tr th:only-of-type {\n",
       "        vertical-align: middle;\n",
       "    }\n",
       "\n",
       "    .dataframe tbody tr th {\n",
       "        vertical-align: top;\n",
       "    }\n",
       "\n",
       "    .dataframe thead th {\n",
       "        text-align: right;\n",
       "    }\n",
       "</style>\n",
       "<table border=\"1\" class=\"dataframe\">\n",
       "  <thead>\n",
       "    <tr style=\"text-align: right;\">\n",
       "      <th></th>\n",
       "      <th>seller_id</th>\n",
       "      <th>seller_zip_code_prefix</th>\n",
       "      <th>seller_city</th>\n",
       "      <th>seller_state</th>\n",
       "    </tr>\n",
       "  </thead>\n",
       "  <tbody>\n",
       "    <tr>\n",
       "      <th>0</th>\n",
       "      <td>3442f8959a84dea7ee197c632cb2df15</td>\n",
       "      <td>13023</td>\n",
       "      <td>campinas</td>\n",
       "      <td>SP</td>\n",
       "    </tr>\n",
       "    <tr>\n",
       "      <th>1</th>\n",
       "      <td>d1b65fc7debc3361ea86b5f14c68d2e2</td>\n",
       "      <td>13844</td>\n",
       "      <td>mogi guacu</td>\n",
       "      <td>SP</td>\n",
       "    </tr>\n",
       "    <tr>\n",
       "      <th>2</th>\n",
       "      <td>ce3ad9de960102d0677a81f5d0bb7b2d</td>\n",
       "      <td>20031</td>\n",
       "      <td>rio de janeiro</td>\n",
       "      <td>RJ</td>\n",
       "    </tr>\n",
       "    <tr>\n",
       "      <th>3</th>\n",
       "      <td>c0f3eea2e14555b6faeea3dd58c1b1c3</td>\n",
       "      <td>4195</td>\n",
       "      <td>sao paulo</td>\n",
       "      <td>SP</td>\n",
       "    </tr>\n",
       "    <tr>\n",
       "      <th>4</th>\n",
       "      <td>51a04a8a6bdcb23deccc82b0b80742cf</td>\n",
       "      <td>12914</td>\n",
       "      <td>braganca paulista</td>\n",
       "      <td>SP</td>\n",
       "    </tr>\n",
       "  </tbody>\n",
       "</table>\n",
       "</div>"
      ],
      "text/plain": [
       "                          seller_id  seller_zip_code_prefix  \\\n",
       "0  3442f8959a84dea7ee197c632cb2df15                   13023   \n",
       "1  d1b65fc7debc3361ea86b5f14c68d2e2                   13844   \n",
       "2  ce3ad9de960102d0677a81f5d0bb7b2d                   20031   \n",
       "3  c0f3eea2e14555b6faeea3dd58c1b1c3                    4195   \n",
       "4  51a04a8a6bdcb23deccc82b0b80742cf                   12914   \n",
       "\n",
       "         seller_city seller_state  \n",
       "0           campinas           SP  \n",
       "1         mogi guacu           SP  \n",
       "2     rio de janeiro           RJ  \n",
       "3          sao paulo           SP  \n",
       "4  braganca paulista           SP  "
      ]
     },
     "execution_count": 68,
     "metadata": {},
     "output_type": "execute_result"
    }
   ],
   "source": [
    "df_list[2].shape\n",
    "df_list[7].head()"
   ]
  },
  {
   "cell_type": "markdown",
   "id": "26735661",
   "metadata": {},
   "source": [
    "## 1. Total order count with revenue for each states?"
   ]
  },
  {
   "cell_type": "code",
   "execution_count": 82,
   "id": "ca7ec4c4",
   "metadata": {},
   "outputs": [
    {
     "data": {
      "text/html": [
       "<div>\n",
       "<style scoped>\n",
       "    .dataframe tbody tr th:only-of-type {\n",
       "        vertical-align: middle;\n",
       "    }\n",
       "\n",
       "    .dataframe tbody tr th {\n",
       "        vertical-align: top;\n",
       "    }\n",
       "\n",
       "    .dataframe thead th {\n",
       "        text-align: right;\n",
       "    }\n",
       "</style>\n",
       "<table border=\"1\" class=\"dataframe\">\n",
       "  <thead>\n",
       "    <tr style=\"text-align: right;\">\n",
       "      <th></th>\n",
       "      <th>customer_state</th>\n",
       "      <th>order_count</th>\n",
       "      <th>order_value</th>\n",
       "    </tr>\n",
       "  </thead>\n",
       "  <tbody>\n",
       "    <tr>\n",
       "      <th>25</th>\n",
       "      <td>SP</td>\n",
       "      <td>43622</td>\n",
       "      <td>5998226.96</td>\n",
       "    </tr>\n",
       "    <tr>\n",
       "      <th>18</th>\n",
       "      <td>RJ</td>\n",
       "      <td>13527</td>\n",
       "      <td>2144379.69</td>\n",
       "    </tr>\n",
       "    <tr>\n",
       "      <th>10</th>\n",
       "      <td>MG</td>\n",
       "      <td>12102</td>\n",
       "      <td>1872257.26</td>\n",
       "    </tr>\n",
       "    <tr>\n",
       "      <th>22</th>\n",
       "      <td>RS</td>\n",
       "      <td>5668</td>\n",
       "      <td>890898.54</td>\n",
       "    </tr>\n",
       "    <tr>\n",
       "      <th>17</th>\n",
       "      <td>PR</td>\n",
       "      <td>5262</td>\n",
       "      <td>811156.38</td>\n",
       "    </tr>\n",
       "  </tbody>\n",
       "</table>\n",
       "</div>"
      ],
      "text/plain": [
       "   customer_state  order_count  order_value\n",
       "25             SP        43622   5998226.96\n",
       "18             RJ        13527   2144379.69\n",
       "10             MG        12102   1872257.26\n",
       "22             RS         5668    890898.54\n",
       "17             PR         5262    811156.38"
      ]
     },
     "execution_count": 82,
     "metadata": {},
     "output_type": "execute_result"
    }
   ],
   "source": [
    "a1=pd.merge(df_list[0],df_list[2], on='customer_id',how='right').merge(df_list[4],on='order_id',how='inner')\n",
    "\n",
    "a1.groupby('customer_state').agg({'order_id':'count', 'payment_value': 'sum'})\\\n",
    ".reset_index()\\\n",
    ".rename(columns={'order_id':'order_count','payment_value':'order_value'})\\\n",
    ".sort_values('order_value',ascending=False)\\\n",
    ".head(5)\n"
   ]
  },
  {
   "cell_type": "markdown",
   "id": "98400004",
   "metadata": {},
   "source": [
    "## 2. Total order count with revenue for each states where review_score of order is 5?"
   ]
  },
  {
   "cell_type": "code",
   "execution_count": 83,
   "id": "d870304f",
   "metadata": {},
   "outputs": [
    {
     "data": {
      "text/html": [
       "<div>\n",
       "<style scoped>\n",
       "    .dataframe tbody tr th:only-of-type {\n",
       "        vertical-align: middle;\n",
       "    }\n",
       "\n",
       "    .dataframe tbody tr th {\n",
       "        vertical-align: top;\n",
       "    }\n",
       "\n",
       "    .dataframe thead th {\n",
       "        text-align: right;\n",
       "    }\n",
       "</style>\n",
       "<table border=\"1\" class=\"dataframe\">\n",
       "  <thead>\n",
       "    <tr style=\"text-align: right;\">\n",
       "      <th></th>\n",
       "      <th>customer_state</th>\n",
       "      <th>order_count</th>\n",
       "      <th>order_value</th>\n",
       "    </tr>\n",
       "  </thead>\n",
       "  <tbody>\n",
       "    <tr>\n",
       "      <th>25</th>\n",
       "      <td>SP</td>\n",
       "      <td>26252</td>\n",
       "      <td>3526218.66</td>\n",
       "    </tr>\n",
       "    <tr>\n",
       "      <th>18</th>\n",
       "      <td>RJ</td>\n",
       "      <td>7299</td>\n",
       "      <td>1122959.96</td>\n",
       "    </tr>\n",
       "    <tr>\n",
       "      <th>10</th>\n",
       "      <td>MG</td>\n",
       "      <td>7114</td>\n",
       "      <td>1077242.14</td>\n",
       "    </tr>\n",
       "    <tr>\n",
       "      <th>22</th>\n",
       "      <td>RS</td>\n",
       "      <td>3307</td>\n",
       "      <td>509489.71</td>\n",
       "    </tr>\n",
       "    <tr>\n",
       "      <th>17</th>\n",
       "      <td>PR</td>\n",
       "      <td>3143</td>\n",
       "      <td>462279.12</td>\n",
       "    </tr>\n",
       "  </tbody>\n",
       "</table>\n",
       "</div>"
      ],
      "text/plain": [
       "   customer_state  order_count  order_value\n",
       "25             SP        26252   3526218.66\n",
       "18             RJ         7299   1122959.96\n",
       "10             MG         7114   1077242.14\n",
       "22             RS         3307    509489.71\n",
       "17             PR         3143    462279.12"
      ]
     },
     "execution_count": 83,
     "metadata": {},
     "output_type": "execute_result"
    }
   ],
   "source": [
    "a2=pd.merge(df_list[0],df_list[2], on='customer_id',how='right')\\\n",
    "     .merge(df_list[4],on='order_id',how='inner')\\\n",
    "     .merge(df_list[5],on='order_id',how='inner')\n",
    "a2= a2[a2['review_score']==5]\n",
    "a2.groupby('customer_state').agg({'order_id':'count', 'payment_value': 'sum'})\\\n",
    "    .reset_index()\\\n",
    "    .rename(columns={'order_id':'order_count','payment_value':'order_value'})\\\n",
    "    .sort_values('order_value',ascending=False)\\\n",
    "    .head(5)\n",
    "\n",
    "\n",
    "\n"
   ]
  },
  {
   "cell_type": "markdown",
   "id": "3edb5ce8",
   "metadata": {},
   "source": [
    "## 3. Total order count made by each seller where payment mode was \"debit_card\"?"
   ]
  },
  {
   "cell_type": "code",
   "execution_count": 85,
   "id": "077c20e0",
   "metadata": {},
   "outputs": [
    {
     "data": {
      "text/html": [
       "<div>\n",
       "<style scoped>\n",
       "    .dataframe tbody tr th:only-of-type {\n",
       "        vertical-align: middle;\n",
       "    }\n",
       "\n",
       "    .dataframe tbody tr th {\n",
       "        vertical-align: top;\n",
       "    }\n",
       "\n",
       "    .dataframe thead th {\n",
       "        text-align: right;\n",
       "    }\n",
       "</style>\n",
       "<table border=\"1\" class=\"dataframe\">\n",
       "  <thead>\n",
       "    <tr style=\"text-align: right;\">\n",
       "      <th></th>\n",
       "      <th>seller_id</th>\n",
       "      <th>no_of_debit_card_mode_sales</th>\n",
       "      <th>order_value</th>\n",
       "    </tr>\n",
       "  </thead>\n",
       "  <tbody>\n",
       "    <tr>\n",
       "      <th>288</th>\n",
       "      <td>6560211a19b47992c3666cc44a7e94c0</td>\n",
       "      <td>31</td>\n",
       "      <td>2619.95</td>\n",
       "    </tr>\n",
       "    <tr>\n",
       "      <th>427</th>\n",
       "      <td>955fee9216a65b617aa5c0531780ce60</td>\n",
       "      <td>30</td>\n",
       "      <td>3489.35</td>\n",
       "    </tr>\n",
       "    <tr>\n",
       "      <th>399</th>\n",
       "      <td>8b321bb669392f5163d04c59e235e066</td>\n",
       "      <td>29</td>\n",
       "      <td>885.97</td>\n",
       "    </tr>\n",
       "    <tr>\n",
       "      <th>616</th>\n",
       "      <td>e9779976487b77c6d4ac45f75ec7afe9</td>\n",
       "      <td>26</td>\n",
       "      <td>1544.12</td>\n",
       "    </tr>\n",
       "    <tr>\n",
       "      <th>103</th>\n",
       "      <td>1f50f920176fa81dab994f9023523100</td>\n",
       "      <td>25</td>\n",
       "      <td>2684.86</td>\n",
       "    </tr>\n",
       "  </tbody>\n",
       "</table>\n",
       "</div>"
      ],
      "text/plain": [
       "                            seller_id  no_of_debit_card_mode_sales  \\\n",
       "288  6560211a19b47992c3666cc44a7e94c0                           31   \n",
       "427  955fee9216a65b617aa5c0531780ce60                           30   \n",
       "399  8b321bb669392f5163d04c59e235e066                           29   \n",
       "616  e9779976487b77c6d4ac45f75ec7afe9                           26   \n",
       "103  1f50f920176fa81dab994f9023523100                           25   \n",
       "\n",
       "     order_value  \n",
       "288      2619.95  \n",
       "427      3489.35  \n",
       "399       885.97  \n",
       "616      1544.12  \n",
       "103      2684.86  "
      ]
     },
     "execution_count": 85,
     "metadata": {},
     "output_type": "execute_result"
    }
   ],
   "source": [
    "a3=pd.merge(df_list[2],df_list[3], on='order_id',how='inner')\\\n",
    "     .merge(df_list[4],on='order_id',how='inner')\\\n",
    "     .merge(df_list[7],on='seller_id',how='inner')\n",
    "a3= a3[a3['payment_type']=='debit_card']\n",
    "a3.groupby('seller_id').agg({'order_id':'count', 'payment_value': 'sum'})\\\n",
    "    .reset_index()\\\n",
    "    .rename(columns={'order_id':'no_of_debit_card_mode_sales','payment_value':'order_value'})\\\n",
    "    .sort_values('no_of_debit_card_mode_sales',ascending=False)\\\n",
    "    .head(5)\n",
    "\n",
    "\n",
    "\n"
   ]
  },
  {
   "cell_type": "markdown",
   "id": "eeb79b75",
   "metadata": {},
   "source": [
    "## 4. Top 5 english name of products with maximum selling price?"
   ]
  },
  {
   "cell_type": "code",
   "execution_count": 113,
   "id": "0438ea8f",
   "metadata": {},
   "outputs": [
    {
     "data": {
      "text/plain": [
       "product_category_name_english\n",
       "housewares             6735.00\n",
       "computers              6729.00\n",
       "art                    6499.00\n",
       "small_appliances       4799.00\n",
       "musical_instruments    4399.87\n",
       "Name: price, dtype: float64"
      ]
     },
     "execution_count": 113,
     "metadata": {},
     "output_type": "execute_result"
    }
   ],
   "source": [
    "df_list[8].head() #product_category_name\n",
    "df_list[6].head() #product_category_name\n",
    "df_list[3].head() #product_id\n",
    "\n",
    "a4=pd.merge(df_list[3],df_list[6], on='product_id',how='inner')\\\n",
    "     .merge(df_list[8],on='product_category_name',how='inner')\n",
    "a4.groupby('product_category_name_english')['price']\\\n",
    ".max()\\\n",
    ".sort_values(ascending=False)\\\n",
    ".head(5)"
   ]
  },
  {
   "cell_type": "markdown",
   "id": "8c57c7d7",
   "metadata": {},
   "source": [
    "## 5. Year (order_items.shipping_limit_date) with maximum order ordered?"
   ]
  },
  {
   "cell_type": "code",
   "execution_count": 140,
   "id": "02903559",
   "metadata": {},
   "outputs": [
    {
     "data": {
      "text/plain": [
       "shipping_limit_date\n",
       "2016      370\n",
       "2017    49765\n",
       "2018    62511\n",
       "2020        4\n",
       "Name: order_id, dtype: int64"
      ]
     },
     "execution_count": 140,
     "metadata": {},
     "output_type": "execute_result"
    }
   ],
   "source": [
    "a5=df_list[3]\n",
    "a5.groupby(pd.to_datetime(a5['shipping_limit_date']).dt.year)['order_id'].agg('count')"
   ]
  }
 ],
 "metadata": {
  "kernelspec": {
   "display_name": "Python 3 (ipykernel)",
   "language": "python",
   "name": "python3"
  },
  "language_info": {
   "codemirror_mode": {
    "name": "ipython",
    "version": 3
   },
   "file_extension": ".py",
   "mimetype": "text/x-python",
   "name": "python",
   "nbconvert_exporter": "python",
   "pygments_lexer": "ipython3",
   "version": "3.9.12"
  }
 },
 "nbformat": 4,
 "nbformat_minor": 5
}
