{
 "cells": [
  {
   "cell_type": "code",
   "execution_count": 1,
   "id": "3e8c0de5",
   "metadata": {},
   "outputs": [],
   "source": [
    "from bs4 import BeautifulSoup"
   ]
  },
  {
   "cell_type": "code",
   "execution_count": 2,
   "id": "955153bc",
   "metadata": {},
   "outputs": [],
   "source": [
    "s1= '''<?xml version=\"1.0\" encoding=\"UTF-8\"?>\n",
    "<bookstore>\n",
    "  <book category=\"cooking\">\n",
    "    <title lang=\"en\">Everyday Italian</title>\n",
    "    <author>Giada De Laurentiis</author>\n",
    "    <year>2005</year>\n",
    "    <price>30.00</price>\n",
    "  </book>\n",
    "  <book category=\"children\">\n",
    "    <title lang=\"es\">Harry Potter</title>\n",
    "    <author>J K. Rowling</author>\n",
    "    <year>2005</year>\n",
    "    <price>29.99</price>\n",
    "  </book>\n",
    "  <book category=\"children\">\n",
    "    <title lang=\"en\">Pokemon</title>\n",
    "    <author>shafi</author>\n",
    "    <year>2022</year>\n",
    "    <price>129.99</price>\n",
    "  </book>\n",
    "</bookstore>'''"
   ]
  },
  {
   "cell_type": "code",
   "execution_count": 3,
   "id": "876454b7",
   "metadata": {
    "scrolled": true
   },
   "outputs": [
    {
     "data": {
      "text/plain": [
       "'<?xml version=\"1.0\" encoding=\"utf-8\"?>\\n<bookstore>\\n <book category=\"cooking\">\\n  <title lang=\"en\">\\n   Everyday Italian\\n  </title>\\n  <author>\\n   Giada De Laurentiis\\n  </author>\\n  <year>\\n   2005\\n  </year>\\n  <price>\\n   30.00\\n  </price>\\n </book>\\n <book category=\"children\">\\n  <title lang=\"es\">\\n   Harry Potter\\n  </title>\\n  <author>\\n   J K. Rowling\\n  </author>\\n  <year>\\n   2005\\n  </year>\\n  <price>\\n   29.99\\n  </price>\\n </book>\\n <book category=\"children\">\\n  <title lang=\"en\">\\n   Pokemon\\n  </title>\\n  <author>\\n   shafi\\n  </author>\\n  <year>\\n   2022\\n  </year>\\n  <price>\\n   129.99\\n  </price>\\n </book>\\n</bookstore>'"
      ]
     },
     "execution_count": 3,
     "metadata": {},
     "output_type": "execute_result"
    }
   ],
   "source": [
    "content=BeautifulSoup(s1,'xml')\n",
    "content.prettify()"
   ]
  },
  {
   "cell_type": "markdown",
   "id": "6eecea16",
   "metadata": {},
   "source": [
    "## find() and find_all()"
   ]
  },
  {
   "cell_type": "code",
   "execution_count": 4,
   "id": "8c6f2297",
   "metadata": {},
   "outputs": [
    {
     "data": {
      "text/plain": [
       "<title lang=\"en\">Everyday Italian</title>"
      ]
     },
     "execution_count": 4,
     "metadata": {},
     "output_type": "execute_result"
    }
   ],
   "source": [
    "content.find('title')"
   ]
  },
  {
   "cell_type": "code",
   "execution_count": 5,
   "id": "5f6aeaf8",
   "metadata": {
    "scrolled": true
   },
   "outputs": [
    {
     "data": {
      "text/plain": [
       "[<title lang=\"en\">Everyday Italian</title>,\n",
       " <title lang=\"es\">Harry Potter</title>,\n",
       " <title lang=\"en\">Pokemon</title>]"
      ]
     },
     "execution_count": 5,
     "metadata": {},
     "output_type": "execute_result"
    }
   ],
   "source": [
    "content.find_all('title')"
   ]
  },
  {
   "cell_type": "markdown",
   "id": "a117b0ba",
   "metadata": {},
   "source": [
    "## .text: to extract only text/value"
   ]
  },
  {
   "cell_type": "code",
   "execution_count": 6,
   "id": "dbc65e5c",
   "metadata": {},
   "outputs": [
    {
     "name": "stdout",
     "output_type": "stream",
     "text": [
      "<title lang=\"es\">Harry Potter</title>\n",
      "Harry Potter\n"
     ]
    }
   ],
   "source": [
    "print(content.find_all('title')[1])\n",
    "#O/P: <title lang=\"eng\">Harry Potter</title>\n",
    "\n",
    "print(content.find_all('title')[1].text)"
   ]
  },
  {
   "cell_type": "markdown",
   "id": "30516a0d",
   "metadata": {},
   "source": [
    "## Extract title, author,year,price from xml"
   ]
  },
  {
   "cell_type": "code",
   "execution_count": 7,
   "id": "5b6eb17e",
   "metadata": {},
   "outputs": [
    {
     "name": "stdout",
     "output_type": "stream",
     "text": [
      "Book no. 1\n",
      "title = Everyday Italian \n",
      "author = Giada De Laurentiis \n",
      "year = 2005 \n",
      "price = 30.00 \n",
      "*************************\n",
      "Book no. 2\n",
      "title = Harry Potter \n",
      "author = J K. Rowling \n",
      "year = 2005 \n",
      "price = 29.99 \n",
      "*************************\n",
      "Book no. 3\n",
      "title = Pokemon \n",
      "author = shafi \n",
      "year = 2022 \n",
      "price = 129.99 \n",
      "*************************\n"
     ]
    }
   ],
   "source": [
    "#extracting all relevant data\n",
    "title=content.find_all('title') \n",
    "author=content.find_all('author') \n",
    "year=content.find_all('year') \n",
    "price=content.find_all('price')  \n",
    "\n",
    "# iterating each list item\n",
    "for i in range(len(title)):\n",
    "    print(f'Book no. {i+1}')\n",
    "    print(f'title = {title[i].text} ')\n",
    "    print(f'author = {author[i].text} ')\n",
    "    print(f'year = {year[i].text} ')\n",
    "    print(f'price = {price[i].text} ')\n",
    "    print('*' * 25)\n"
   ]
  },
  {
   "cell_type": "markdown",
   "id": "d319b51f",
   "metadata": {},
   "source": [
    "## Extract title, author,year,price from xml only for English Language \n",
    "hint: use attribute lang='en' for filter"
   ]
  },
  {
   "cell_type": "code",
   "execution_count": 8,
   "id": "1e07f5b4",
   "metadata": {
    "scrolled": true
   },
   "outputs": [],
   "source": [
    "#title=content.parseString('title',attrs={'lang':'en'})\n",
    "en_title=content.find_all('title',{'lang':'en'})\n",
    "en_author =content.find('title',{'lang':'en'}).find_next_siblings('author')\n",
    "en_year =content.find('title',{'lang':'en'}).find_next_siblings('year')\n",
    "en_price =content.find('title',{'lang':'en'}).find_next_siblings('price')"
   ]
  },
  {
   "cell_type": "code",
   "execution_count": 9,
   "id": "154ee8bc",
   "metadata": {},
   "outputs": [
    {
     "name": "stdout",
     "output_type": "stream",
     "text": [
      "English Book no. 1\n",
      "title = Everyday Italian\n",
      "author = Giada De Laurentiis\n",
      "year = 2005\n"
     ]
    },
    {
     "ename": "AttributeError",
     "evalue": "ResultSet object has no attribute 'text'. You're probably treating a list of elements like a single element. Did you call find_all() when you meant to call find()?",
     "output_type": "error",
     "traceback": [
      "\u001b[1;31m---------------------------------------------------------------------------\u001b[0m",
      "\u001b[1;31mAttributeError\u001b[0m                            Traceback (most recent call last)",
      "Input \u001b[1;32mIn [9]\u001b[0m, in \u001b[0;36m<cell line: 1>\u001b[1;34m()\u001b[0m\n\u001b[0;32m      4\u001b[0m \u001b[38;5;28mprint\u001b[39m(\u001b[38;5;124mf\u001b[39m\u001b[38;5;124m'\u001b[39m\u001b[38;5;124mauthor = \u001b[39m\u001b[38;5;132;01m{\u001b[39;00men_author[i]\u001b[38;5;241m.\u001b[39mtext\u001b[38;5;132;01m}\u001b[39;00m\u001b[38;5;124m'\u001b[39m)\n\u001b[0;32m      5\u001b[0m \u001b[38;5;28mprint\u001b[39m(\u001b[38;5;124mf\u001b[39m\u001b[38;5;124m'\u001b[39m\u001b[38;5;124myear = \u001b[39m\u001b[38;5;132;01m{\u001b[39;00men_year[i]\u001b[38;5;241m.\u001b[39mtext\u001b[38;5;132;01m}\u001b[39;00m\u001b[38;5;124m'\u001b[39m)\n\u001b[1;32m----> 6\u001b[0m \u001b[38;5;28mprint\u001b[39m(\u001b[38;5;124mf\u001b[39m\u001b[38;5;124m'\u001b[39m\u001b[38;5;124mprice = \u001b[39m\u001b[38;5;132;01m{\u001b[39;00men_price\u001b[38;5;241m.\u001b[39mtext\u001b[38;5;132;01m}\u001b[39;00m\u001b[38;5;124m'\u001b[39m)\n\u001b[0;32m      7\u001b[0m \u001b[38;5;28mprint\u001b[39m(\u001b[38;5;124m'\u001b[39m\u001b[38;5;124m*\u001b[39m\u001b[38;5;124m'\u001b[39m \u001b[38;5;241m*\u001b[39m \u001b[38;5;241m25\u001b[39m)\n",
      "File \u001b[1;32mC:\\ProgramData\\Anaconda3\\lib\\site-packages\\bs4\\element.py:2289\u001b[0m, in \u001b[0;36mResultSet.__getattr__\u001b[1;34m(self, key)\u001b[0m\n\u001b[0;32m   2287\u001b[0m \u001b[38;5;28;01mdef\u001b[39;00m \u001b[38;5;21m__getattr__\u001b[39m(\u001b[38;5;28mself\u001b[39m, key):\n\u001b[0;32m   2288\u001b[0m     \u001b[38;5;124;03m\"\"\"Raise a helpful exception to explain a common code fix.\"\"\"\u001b[39;00m\n\u001b[1;32m-> 2289\u001b[0m     \u001b[38;5;28;01mraise\u001b[39;00m \u001b[38;5;167;01mAttributeError\u001b[39;00m(\n\u001b[0;32m   2290\u001b[0m         \u001b[38;5;124m\"\u001b[39m\u001b[38;5;124mResultSet object has no attribute \u001b[39m\u001b[38;5;124m'\u001b[39m\u001b[38;5;132;01m%s\u001b[39;00m\u001b[38;5;124m'\u001b[39m\u001b[38;5;124m. You\u001b[39m\u001b[38;5;124m'\u001b[39m\u001b[38;5;124mre probably treating a list of elements like a single element. Did you call find_all() when you meant to call find()?\u001b[39m\u001b[38;5;124m\"\u001b[39m \u001b[38;5;241m%\u001b[39m key\n\u001b[0;32m   2291\u001b[0m     )\n",
      "\u001b[1;31mAttributeError\u001b[0m: ResultSet object has no attribute 'text'. You're probably treating a list of elements like a single element. Did you call find_all() when you meant to call find()?"
     ]
    }
   ],
   "source": [
    "for i in range(len(en_title)):\n",
    "    print(f'English Book no. {i+1}')\n",
    "    print(f'title = {en_title[i].text}')\n",
    "    print(f'author = {en_author[i].text}')\n",
    "    print(f'year = {en_year[i].text}')\n",
    "    print(f'price = {en_price.text}')\n",
    "    print('*' * 25)"
   ]
  },
  {
   "cell_type": "markdown",
   "id": "c2e99ef5",
   "metadata": {},
   "source": [
    "## Find Element By Attribute"
   ]
  },
  {
   "cell_type": "code",
   "execution_count": 10,
   "id": "2c760b7c",
   "metadata": {
    "scrolled": true
   },
   "outputs": [
    {
     "data": {
      "text/plain": [
       "<book category=\"children\">\n",
       "<title lang=\"es\">Harry Potter</title>\n",
       "<author>J K. Rowling</author>\n",
       "<year>2005</year>\n",
       "<price>29.99</price>\n",
       "</book>"
      ]
     },
     "execution_count": 10,
     "metadata": {},
     "output_type": "execute_result"
    }
   ],
   "source": [
    "content.find_all(attrs={'category':'children'})[0]"
   ]
  },
  {
   "cell_type": "code",
   "execution_count": 11,
   "id": "1a3de29a",
   "metadata": {},
   "outputs": [
    {
     "name": "stdout",
     "output_type": "stream",
     "text": [
      "[<title lang=\"es\">Harry Potter</title>]\n"
     ]
    }
   ],
   "source": [
    " print(content.find_all(attrs={'category':'children'})[0].find_all('title'))"
   ]
  },
  {
   "cell_type": "code",
   "execution_count": 12,
   "id": "7bb06732",
   "metadata": {
    "scrolled": false
   },
   "outputs": [
    {
     "name": "stdout",
     "output_type": "stream",
     "text": [
      "Harry Potter\n"
     ]
    }
   ],
   "source": [
    "for i in content:\n",
    "    print(content.find_all(attrs={'category':'children'})[0].find_all('title')[0].text)"
   ]
  },
  {
   "cell_type": "markdown",
   "id": "ff74c8ff",
   "metadata": {},
   "source": [
    "## Find Element By Class"
   ]
  },
  {
   "cell_type": "code",
   "execution_count": 13,
   "id": "79d9975d",
   "metadata": {},
   "outputs": [],
   "source": [
    "for el in content.find_all(attrs={\"class\": \"value\"}):\n",
    "    print(el)"
   ]
  },
  {
   "cell_type": "code",
   "execution_count": null,
   "id": "9800ed91",
   "metadata": {},
   "outputs": [],
   "source": []
  },
  {
   "cell_type": "markdown",
   "id": "e576b811",
   "metadata": {},
   "source": [
    "https://beautiful-soup-4.readthedocs.io/en/latest/"
   ]
  }
 ],
 "metadata": {
  "kernelspec": {
   "display_name": "Python 3 (ipykernel)",
   "language": "python",
   "name": "python3"
  },
  "language_info": {
   "codemirror_mode": {
    "name": "ipython",
    "version": 3
   },
   "file_extension": ".py",
   "mimetype": "text/x-python",
   "name": "python",
   "nbconvert_exporter": "python",
   "pygments_lexer": "ipython3",
   "version": "3.9.12"
  }
 },
 "nbformat": 4,
 "nbformat_minor": 5
}
