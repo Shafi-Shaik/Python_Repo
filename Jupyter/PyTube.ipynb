{
 "cells": [
  {
   "cell_type": "code",
   "execution_count": 1,
   "id": "dd67d878-77c1-4cd4-9678-4df00abd4728",
   "metadata": {},
   "outputs": [],
   "source": [
    "import pytube as pt"
   ]
  },
  {
   "cell_type": "code",
   "execution_count": 2,
   "id": "18331412-d506-4723-bac0-b8ac10a9924a",
   "metadata": {},
   "outputs": [],
   "source": [
    "folder='S:/YouTube/Matplotlib'"
   ]
  },
  {
   "cell_type": "markdown",
   "id": "a001aff0-82a4-4b8b-82ec-ca3e90935b67",
   "metadata": {
    "tags": []
   },
   "source": [
    "## To dowload Single Video"
   ]
  },
  {
   "cell_type": "code",
   "execution_count": 3,
   "id": "511a9c0e-bfe4-4c6f-a2e2-47cba341bb0d",
   "metadata": {},
   "outputs": [],
   "source": [
    "url='https://www.youtube.com/watch?v=ZyhVh-qRZPA&list=PL-osiE80TeTsWmV9i9c58mdDCSskIFdDS'"
   ]
  },
  {
   "cell_type": "code",
   "execution_count": 4,
   "id": "c216d994-0fcf-41c8-bb02-8d41cdeebb86",
   "metadata": {},
   "outputs": [],
   "source": [
    "streamlist=pt.YouTube(url)"
   ]
  },
  {
   "cell_type": "markdown",
   "id": "7d49e775-6e54-466f-931d-dab7a2b2ddae",
   "metadata": {
    "tags": []
   },
   "source": [
    "### To download the highest resolution video with audio(mostly 720p will have both audio and video). You need to download video and audio individually and merge using available software for resolution higher than 720p "
   ]
  },
  {
   "cell_type": "code",
   "execution_count": 5,
   "id": "414b79b6-7775-492e-905d-9af6cb22837e",
   "metadata": {},
   "outputs": [],
   "source": [
    "# desired=streamlist.streams.get_highest_resolution() \n",
    "# desired.download()"
   ]
  },
  {
   "cell_type": "markdown",
   "id": "4fe11956-d95f-4e1f-a31b-2740f114771e",
   "metadata": {},
   "source": [
    "### To Download based on your criteria "
   ]
  },
  {
   "cell_type": "code",
   "execution_count": 6,
   "id": "cb739a64-c632-4f11-9cef-9f05b2fe893a",
   "metadata": {},
   "outputs": [],
   "source": [
    "# desired=streamlist.streams.filter( res='1080p')\n",
    "# desired.first().download()"
   ]
  },
  {
   "cell_type": "markdown",
   "id": "0d9aa418-dda7-43d5-b825-e324f9380e42",
   "metadata": {
    "tags": []
   },
   "source": [
    "## To dowload Entire Playlist"
   ]
  },
  {
   "cell_type": "code",
   "execution_count": 7,
   "id": "e135effc-902d-4f96-817b-eee5f633e86e",
   "metadata": {},
   "outputs": [],
   "source": [
    "playlist = 'https://www.youtube.com/playlist?list=PL-osiE80TeTvipOqomVEeZ1HRrcEvtZB_'"
   ]
  },
  {
   "cell_type": "code",
   "execution_count": 8,
   "id": "b5d21b04-0902-4299-9091-2bd762a97df6",
   "metadata": {},
   "outputs": [],
   "source": [
    "playlist=pt.Playlist(playlist)"
   ]
  },
  {
   "cell_type": "markdown",
   "id": "701d1822-0adf-4ced-8d70-1cb2ff848be6",
   "metadata": {
    "tags": []
   },
   "source": [
    "### Get the Information about the Playlist"
   ]
  },
  {
   "cell_type": "code",
   "execution_count": 9,
   "id": "443499c3-0241-4629-86ea-bb76caafb8d8",
   "metadata": {},
   "outputs": [
    {
     "name": "stdout",
     "output_type": "stream",
     "text": [
      "No.of Videos in this Playlist =  10\n",
      "last_updated Date  =  2019-06-25\n",
      "Channel Link =  https://www.youtube.com/channel/UCCezIgC97PvUuR4_gbFUs5g\n",
      "Playlist title=  Matplotlib Tutorials\n",
      "Owner of this Playlist =  Corey Schafer\n",
      "Playlist Link =  https://www.youtube.com/playlist?list=PL-osiE80TeTvipOqomVEeZ1HRrcEvtZB_\n",
      "List of URLs of individual Video of the Playlist ['https://www.youtube.com/watch?v=UO98lJQ3QGI', 'https://www.youtube.com/watch?v=nKxLfUrkLE8', 'https://www.youtube.com/watch?v=MPiz50TsyF0', 'https://www.youtube.com/watch?v=xN-Supd4H38', 'https://www.youtube.com/watch?v=x0Uguu7gqgk', 'https://www.youtube.com/watch?v=XDv6T4a0RNc', 'https://www.youtube.com/watch?v=zZZ_RCwp49g', 'https://www.youtube.com/watch?v=_LWjaAiKaf8', 'https://www.youtube.com/watch?v=Ercd-Ip5PfQ', 'https://www.youtube.com/watch?v=XFZRVnP-MTU']\n",
      "Total Views of the Playlist 0.7 Mn\n"
     ]
    }
   ],
   "source": [
    "print('No.of Videos in this Playlist = ',playlist.length)\n",
    "print('last_updated Date  = ',playlist.last_updated)\n",
    "\n",
    "print('Channel Link = ',playlist.owner_url)\n",
    "\n",
    "print('Playlist title= ',playlist.title)\n",
    "print('Owner of this Playlist = ',playlist.owner)\n",
    "print('Playlist Link = ',playlist.playlist_url)\n",
    "print('List of URLs of individual Video of the Playlist',playlist.video_urls)\n",
    "print('Total Views of the Playlist', round(playlist.views/1000000,1),'Mn')"
   ]
  },
  {
   "cell_type": "markdown",
   "id": "0ac13617-8cf3-48d8-8591-ca52032255c1",
   "metadata": {
    "tags": []
   },
   "source": [
    "### Downloading the playlist videos"
   ]
  },
  {
   "cell_type": "code",
   "execution_count": 18,
   "id": "f115a2db-40b2-43d3-912c-b8acbefa5555",
   "metadata": {},
   "outputs": [
    {
     "name": "stdout",
     "output_type": "stream",
     "text": [
      "Matplotlib Tutorial (Part 1): Creating and Customizing Our First Plots  Video Download Successfully\n",
      "Matplotlib Tutorial (Part 2): Bar Charts and Analyzing Data from CSVs  Video Download Successfully\n",
      "Matplotlib Tutorial (Part 3): Pie Charts  Video Download Successfully\n",
      "Matplotlib Tutorial (Part 4): Stack Plots  Video Download Successfully\n",
      "Matplotlib Tutorial (Part 5): Filling Area on Line Plots  Video Download Successfully\n",
      "Matplotlib Tutorial (Part 6): Histograms  Video Download Successfully\n",
      "Matplotlib Tutorial (Part 7): Scatter Plots  Video Download Successfully\n",
      "Matplotlib Tutorial (Part 8): Plotting Time Series Data  Video Download Successfully\n",
      "Matplotlib Tutorial (Part 9): Plotting Live Data in Real-Time  Video Download Successfully\n",
      "Matplotlib Tutorial (Part 10): Subplots  Video Download Successfully\n",
      "All Videos Downloaded Successfully\n"
     ]
    }
   ],
   "source": [
    "for video in playlist.videos:\n",
    "    video.streams.get_highest_resolution().download(folder)\n",
    "    print(video.title,' Video Download Successfully')\n",
    "    \n",
    "print('All Videos Downloaded Successfully')"
   ]
  },
  {
   "cell_type": "code",
   "execution_count": null,
   "id": "330b4315-f6af-4519-bd0a-fd601903912c",
   "metadata": {},
   "outputs": [],
   "source": []
  },
  {
   "cell_type": "markdown",
   "id": "30a7f3c0-c3f0-4d3e-b1ce-ef646f0ac78a",
   "metadata": {},
   "source": [
    "For more information on PyTube , Refer Documentation : https://pytube.io/en/latest/index.html#"
   ]
  },
  {
   "cell_type": "markdown",
   "id": "eb38adba-990c-4fc7-9abb-d8426a6b7303",
   "metadata": {},
   "source": [
    "This Notebook is written by Shafi Mohiddin Shaik"
   ]
  }
 ],
 "metadata": {
  "kernelspec": {
   "display_name": "Python 3 (ipykernel)",
   "language": "python",
   "name": "python3"
  },
  "language_info": {
   "codemirror_mode": {
    "name": "ipython",
    "version": 3
   },
   "file_extension": ".py",
   "mimetype": "text/x-python",
   "name": "python",
   "nbconvert_exporter": "python",
   "pygments_lexer": "ipython3",
   "version": "3.10.7"
  }
 },
 "nbformat": 4,
 "nbformat_minor": 5
}
