{
 "cells": [
  {
   "cell_type": "markdown",
   "id": "b391616a",
   "metadata": {},
   "source": [
    "<h1 style=\"color:white;text-align:center;background-color: black;\"> Heading 1: Numpy Arrays Creation in Methods </h1>"
   ]
  },
  {
   "cell_type": "code",
   "execution_count": 1,
   "id": "54857a82",
   "metadata": {},
   "outputs": [],
   "source": [
    "import numpy as np"
   ]
  },
  {
   "cell_type": "markdown",
   "id": "8e0fbb1a",
   "metadata": {},
   "source": [
    "<h2 style=\"color:green;text-align:center;background-color:white;\"> 1.Using Python DataStructures - Lists, Tuples, Sets </h2>"
   ]
  },
  {
   "cell_type": "markdown",
   "id": "e654d6e7",
   "metadata": {},
   "source": [
    "<b> Using Lists </b>"
   ]
  },
  {
   "cell_type": "code",
   "execution_count": 2,
   "id": "50faa48e",
   "metadata": {},
   "outputs": [
    {
     "name": "stdout",
     "output_type": "stream",
     "text": [
      "list_arr1 :  [  1.   35.  634.  565.  345.   24.4] it is of datatype  float64\n"
     ]
    }
   ],
   "source": [
    "List1 = [1,35,634,565,345,24.4]\n",
    "list_arr1 = np.array(List1) \n",
    "print('list_arr1 : ',list_arr1, 'it is of datatype ',list_arr1.dtype)\n",
    "\n",
    "#output: list_arr1 :  [  1  35 634 565 345 234] it is of datatype  float64\n"
   ]
  },
  {
   "cell_type": "markdown",
   "id": "c4499499",
   "metadata": {},
   "source": [
    "<b> Using Tuples </b>"
   ]
  },
  {
   "cell_type": "code",
   "execution_count": 3,
   "id": "b6bd9ffa",
   "metadata": {},
   "outputs": [
    {
     "name": "stdout",
     "output_type": "stream",
     "text": [
      "tuple_arr1 :  [  1.   35.  634.  565.  345.   24.4] it is of datatype  float64\n"
     ]
    }
   ],
   "source": [
    "Tuple1 = tuple(List1)\n",
    "tuple_arr1 = np.array(Tuple1) \n",
    "print('tuple_arr1 : ',tuple_arr1, 'it is of datatype ',tuple_arr1.dtype)\n",
    "\n",
    "#output: tuple_arr1 :  [  1  35 634 565 345 234] it is of datatype  float64\n"
   ]
  },
  {
   "cell_type": "markdown",
   "id": "79d84bdc",
   "metadata": {},
   "source": [
    "<b> Using Sets</b>"
   ]
  },
  {
   "cell_type": "code",
   "execution_count": 4,
   "id": "2e4a0779",
   "metadata": {},
   "outputs": [
    {
     "name": "stdout",
     "output_type": "stream",
     "text": [
      "Set_Array1 :  [  1.   35.  634.  565.  345.   24.4] it is of datatype  float64\n"
     ]
    }
   ],
   "source": [
    "Set1 = tuple(List1)\n",
    "Set1 = np.array(Set1) \n",
    "print('Set_Array1 : ',Set1, 'it is of datatype ',Set1.dtype)\n",
    "\n",
    "#output: Set_Array1 :  [  1  35 634 565 345 234] it is of datatype  float64\n"
   ]
  },
  {
   "cell_type": "markdown",
   "id": "da301873",
   "metadata": {},
   "source": [
    "<b> Heterogenous datatype Arrays would be created as unicode/object </b>"
   ]
  },
  {
   "cell_type": "code",
   "execution_count": 5,
   "id": "9e364dc6",
   "metadata": {
    "scrolled": true
   },
   "outputs": [
    {
     "name": "stdout",
     "output_type": "stream",
     "text": [
      "['1' 'shafi' '23' '345.23' '45'] it is of datatype  <U32\n"
     ]
    }
   ],
   "source": [
    "List2 = [1,'shafi', 23,345.23,45]\n",
    "\n",
    "# since list2 has heterogenous(different) datatype, it would create an \"object array\" instead of int array\n",
    "list_arr = np.array(List2) \n",
    "print(list_arr, 'it is of datatype ',list_arr.dtype)\n"
   ]
  },
  {
   "cell_type": "code",
   "execution_count": null,
   "id": "263d4cdd",
   "metadata": {},
   "outputs": [],
   "source": []
  },
  {
   "cell_type": "markdown",
   "id": "e206a3b3",
   "metadata": {},
   "source": [
    "<h2 style=\"color:green;text-align:center;background-color:white;\"> 2. Using NumPy Array Creation Functions</h2>"
   ]
  },
  {
   "cell_type": "markdown",
   "id": "799c530a",
   "metadata": {},
   "source": [
    "<b> Using np.arange() Function:</b>\n",
    " creates arrays with regularly incrementing values"
   ]
  },
  {
   "cell_type": "code",
   "execution_count": 6,
   "id": "7e9615f4",
   "metadata": {},
   "outputs": [
    {
     "data": {
      "text/plain": [
       "array([2. , 2.1, 2.2, 2.3, 2.4, 2.5, 2.6, 2.7, 2.8, 2.9])"
      ]
     },
     "execution_count": 6,
     "metadata": {},
     "output_type": "execute_result"
    }
   ],
   "source": [
    "np.arange(10) # O/P; array([0, 1, 2, 3, 4, 5, 6, 7, 8, 9])\n",
    "\n",
    "np.arange(2, 10, dtype=float) # O/P: array([2., 3., 4., 5., 6., 7., 8., 9.])\n",
    "\n",
    "np.arange(2, 3, 0.1) #O/P: array([2. , 2.1, 2.2, 2.3, 2.4, 2.5, 2.6, 2.7, 2.8, 2.9])\n"
   ]
  },
  {
   "cell_type": "markdown",
   "id": "71809ce4",
   "metadata": {},
   "source": [
    "<b> Using np.linspace() :</b> np.linspace() will create arrays with a specified number of elements, and spaced equally between the specified beginning and end values. For example:"
   ]
  },
  {
   "cell_type": "code",
   "execution_count": 7,
   "id": "c1289e43",
   "metadata": {},
   "outputs": [
    {
     "data": {
      "text/plain": [
       "array([12.        , 14.66666667, 17.33333333, 20.        ])"
      ]
     },
     "execution_count": 7,
     "metadata": {},
     "output_type": "execute_result"
    }
   ],
   "source": [
    "np.linspace(1., 4., 6) # [1. , 1.6, 2.2, 2.8, 3.4, 4. ]\n",
    "np.linspace(12, 20, 4) # [12., 14.66666667, 17.33333333, 20.]"
   ]
  },
  {
   "cell_type": "markdown",
   "id": "89f56125",
   "metadata": {},
   "source": [
    "<b> Using np.eye(n, m) : </b> np.eye(n, m) defines a 2D identity matrix. The elements where i=j (row index and column index are equal) are 1 and the rest are 0, as such:"
   ]
  },
  {
   "cell_type": "code",
   "execution_count": 8,
   "id": "7695de78",
   "metadata": {
    "scrolled": true
   },
   "outputs": [
    {
     "data": {
      "text/plain": [
       "array([[1., 0., 0., 0., 0.],\n",
       "       [0., 1., 0., 0., 0.],\n",
       "       [0., 0., 1., 0., 0.]])"
      ]
     },
     "execution_count": 8,
     "metadata": {},
     "output_type": "execute_result"
    }
   ],
   "source": [
    "np.eye(3)\n",
    "# O/P: array([[1., 0., 0.],\n",
    "#       [0., 1., 0.],\n",
    " #      [0., 0., 1.]])\n",
    "    \n",
    "    \n",
    "np.eye(3, 5)\n",
    "# O/P:array([[1., 0., 0., 0., 0.],\n",
    "#       [0., 1., 0., 0., 0.],\n",
    "#       [0., 0., 1., 0., 0.]])"
   ]
  },
  {
   "cell_type": "markdown",
   "id": "4fd8d432",
   "metadata": {},
   "source": [
    "<b> Using np.zeros() : </b> numpy.zeros will create an array filled with 0 values with the specified shape. The default dtype is float64:"
   ]
  },
  {
   "cell_type": "code",
   "execution_count": 9,
   "id": "6fbc5f3b",
   "metadata": {},
   "outputs": [
    {
     "data": {
      "text/plain": [
       "array([[[0., 0.],\n",
       "        [0., 0.],\n",
       "        [0., 0.]],\n",
       "\n",
       "       [[0., 0.],\n",
       "        [0., 0.],\n",
       "        [0., 0.]]])"
      ]
     },
     "execution_count": 9,
     "metadata": {},
     "output_type": "execute_result"
    }
   ],
   "source": [
    "np.zeros((2, 3, 2))"
   ]
  },
  {
   "cell_type": "markdown",
   "id": "293ff79f",
   "metadata": {},
   "source": [
    "<b> Using np.ones : </b> numpy.ones will create an array filled with 1 values. It is identical to zeros in all other respects as such:"
   ]
  },
  {
   "cell_type": "code",
   "execution_count": 10,
   "id": "57e9f14b",
   "metadata": {
    "scrolled": true
   },
   "outputs": [
    {
     "data": {
      "text/plain": [
       "array([[[1., 1.],\n",
       "        [1., 1.],\n",
       "        [1., 1.]],\n",
       "\n",
       "       [[1., 1.],\n",
       "        [1., 1.],\n",
       "        [1., 1.]]])"
      ]
     },
     "execution_count": 10,
     "metadata": {},
     "output_type": "execute_result"
    }
   ],
   "source": [
    "np.ones((2, 3, 2))"
   ]
  },
  {
   "cell_type": "code",
   "execution_count": null,
   "id": "fa3a8781",
   "metadata": {},
   "outputs": [],
   "source": []
  },
  {
   "cell_type": "markdown",
   "id": "713f832a",
   "metadata": {},
   "source": [
    "<h2 style=\"color:Green;text-align:center;background-color:white;\">  3. Using np.random Module : </h2>"
   ]
  },
  {
   "cell_type": "code",
   "execution_count": 11,
   "id": "bb2a274c",
   "metadata": {},
   "outputs": [
    {
     "data": {
      "text/plain": [
       "array([[0.42478587, 0.63215241],\n",
       "       [0.83924158, 0.14111225],\n",
       "       [0.64619111, 0.81872962]])"
      ]
     },
     "execution_count": 11,
     "metadata": {},
     "output_type": "execute_result"
    }
   ],
   "source": [
    "np.random.rand(3,2)"
   ]
  },
  {
   "cell_type": "code",
   "execution_count": 12,
   "id": "19e3cb6c",
   "metadata": {},
   "outputs": [
    {
     "data": {
      "text/plain": [
       "array([[4, 4, 4, 4],\n",
       "       [2, 3, 2, 3]])"
      ]
     },
     "execution_count": 12,
     "metadata": {},
     "output_type": "execute_result"
    }
   ],
   "source": [
    "np.random.randint(5, size=(2, 4)) # Generate a 2 x 4 array of ints between 0 and 4, inclusive:"
   ]
  },
  {
   "cell_type": "code",
   "execution_count": null,
   "id": "c8ab5a89",
   "metadata": {},
   "outputs": [],
   "source": []
  },
  {
   "cell_type": "markdown",
   "id": "bc0472ef",
   "metadata": {},
   "source": [
    "<h1 style=\"color:white;text-align:center;background-color: black;\">Heading 2: Attributes of Numpy Array</h1>"
   ]
  },
  {
   "cell_type": "markdown",
   "id": "29b0079a",
   "metadata": {},
   "source": [
    "<b> Shape:</b> Shape gives the number of elements in each dimension in tuple format.\n",
    "\n"
   ]
  },
  {
   "cell_type": "code",
   "execution_count": 13,
   "id": "1db35974",
   "metadata": {},
   "outputs": [
    {
     "data": {
      "text/plain": [
       "array([[1, 2, 3],\n",
       "       [4, 5, 6]])"
      ]
     },
     "execution_count": 13,
     "metadata": {},
     "output_type": "execute_result"
    }
   ],
   "source": [
    "a = np.array([[1,2,3],[4,5,6]]) \n",
    "a"
   ]
  },
  {
   "cell_type": "code",
   "execution_count": 14,
   "id": "e9c7e6f0",
   "metadata": {},
   "outputs": [
    {
     "data": {
      "text/plain": [
       "(2, 3)"
      ]
     },
     "execution_count": 14,
     "metadata": {},
     "output_type": "execute_result"
    }
   ],
   "source": [
    "a.shape # 2rows and 3 columns"
   ]
  },
  {
   "cell_type": "markdown",
   "id": "4aa1f427",
   "metadata": {},
   "source": [
    "<b> Reshape():</b> Reshaping means changing the shape of an array.\n",
    "\n"
   ]
  },
  {
   "cell_type": "code",
   "execution_count": 15,
   "id": "0a01b481",
   "metadata": {},
   "outputs": [
    {
     "data": {
      "text/plain": [
       "array([[1, 2],\n",
       "       [3, 4],\n",
       "       [5, 6]])"
      ]
     },
     "execution_count": 15,
     "metadata": {},
     "output_type": "execute_result"
    }
   ],
   "source": [
    "a.reshape(3,2) # converting to 3rows, 2columns"
   ]
  },
  {
   "cell_type": "markdown",
   "id": "4cba7bff",
   "metadata": {},
   "source": [
    "<b> ndim:</b> ndim gives the number of dimension in tuple format.\n",
    "\n"
   ]
  },
  {
   "cell_type": "code",
   "execution_count": 16,
   "id": "df0e4280",
   "metadata": {
    "scrolled": true
   },
   "outputs": [
    {
     "data": {
      "text/plain": [
       "array([ 0,  1,  2,  3,  4,  5,  6,  7,  8,  9, 10, 11, 12, 13, 14, 15, 16,\n",
       "       17, 18, 19, 20, 21, 22, 23])"
      ]
     },
     "execution_count": 16,
     "metadata": {},
     "output_type": "execute_result"
    }
   ],
   "source": [
    "b = np.arange(24)  # 1Dimensional 24rows and 1 Column\n",
    "b"
   ]
  },
  {
   "cell_type": "code",
   "execution_count": 17,
   "id": "b26b64b3",
   "metadata": {},
   "outputs": [
    {
     "data": {
      "text/plain": [
       "1"
      ]
     },
     "execution_count": 17,
     "metadata": {},
     "output_type": "execute_result"
    }
   ],
   "source": [
    "a.ndim # 2 dimension\n",
    "b.ndim # 1 dimension"
   ]
  },
  {
   "cell_type": "code",
   "execution_count": 18,
   "id": "949b2830",
   "metadata": {},
   "outputs": [
    {
     "data": {
      "text/plain": [
       "array([[[ 0,  1,  2,  3],\n",
       "        [ 4,  5,  6,  7],\n",
       "        [ 8,  9, 10, 11]],\n",
       "\n",
       "       [[12, 13, 14, 15],\n",
       "        [16, 17, 18, 19],\n",
       "        [20, 21, 22, 23]]])"
      ]
     },
     "execution_count": 18,
     "metadata": {},
     "output_type": "execute_result"
    }
   ],
   "source": [
    "c = b.reshape(2,3,4)\n",
    "c"
   ]
  },
  {
   "cell_type": "code",
   "execution_count": 19,
   "id": "4f7709a8",
   "metadata": {},
   "outputs": [
    {
     "data": {
      "text/plain": [
       "3"
      ]
     },
     "execution_count": 19,
     "metadata": {},
     "output_type": "execute_result"
    }
   ],
   "source": [
    "c.ndim "
   ]
  },
  {
   "cell_type": "markdown",
   "id": "2e37c818",
   "metadata": {},
   "source": [
    "<b> size:</b> size gives the number of elements present in Numpy Array (rows * columns * dimensions)\n"
   ]
  },
  {
   "cell_type": "code",
   "execution_count": 20,
   "id": "bd1ab5db",
   "metadata": {},
   "outputs": [
    {
     "data": {
      "text/plain": [
       "24"
      ]
     },
     "execution_count": 20,
     "metadata": {},
     "output_type": "execute_result"
    }
   ],
   "source": [
    "c\n",
    "#   array([[[ 0,  1,  2,  3],\n",
    "#         [ 4,  5,  6,  7],\n",
    "#         [ 8,  9, 10, 11]],\n",
    "\n",
    "#        [[12, 13, 14, 15],\n",
    "#         [16, 17, 18, 19],\n",
    "#         [20, 21, 22, 23]]])\n",
    "c.size"
   ]
  },
  {
   "cell_type": "markdown",
   "id": "59b575b1",
   "metadata": {},
   "source": [
    "<b> itemsize:</b> itemsize gives size of one array element in bytes.\n",
    "\n"
   ]
  },
  {
   "cell_type": "code",
   "execution_count": 21,
   "id": "2caa4d95",
   "metadata": {},
   "outputs": [
    {
     "data": {
      "text/plain": [
       "4"
      ]
     },
     "execution_count": 21,
     "metadata": {},
     "output_type": "execute_result"
    }
   ],
   "source": [
    "c.itemsize #4 bytes"
   ]
  },
  {
   "cell_type": "markdown",
   "id": "0c8bc38b",
   "metadata": {},
   "source": [
    "<b> dtype:</b> dtype gives the datatype of array \n"
   ]
  },
  {
   "cell_type": "code",
   "execution_count": 22,
   "id": "2706c6ab",
   "metadata": {
    "scrolled": true
   },
   "outputs": [
    {
     "data": {
      "text/plain": [
       "dtype('int32')"
      ]
     },
     "execution_count": 22,
     "metadata": {},
     "output_type": "execute_result"
    }
   ],
   "source": [
    "c.dtype #int32 "
   ]
  },
  {
   "cell_type": "markdown",
   "id": "e9c35433",
   "metadata": {},
   "source": [
    "<h1 style=\"color:white;text-align:center;background-color: black;\">  Heading 3: Methods of Numpy Array </h1>"
   ]
  },
  {
   "cell_type": "markdown",
   "id": "6b4ba625",
   "metadata": {},
   "source": [
    "<p style=\"color:Black;text-align:left;font-weight: bold;\">  1. Axes of Numpy Array : </p>\n",
    "a)  Axis =0 (Row-wise): considers all the values of all rows but only single column <br>\n",
    "b)  Axis =1 (Column-wise ): considers all the values of all columns but only single row\n"
   ]
  },
  {
   "cell_type": "code",
   "execution_count": 23,
   "id": "50cf8c7f",
   "metadata": {},
   "outputs": [
    {
     "data": {
      "text/plain": [
       "array([[1, 3],\n",
       "       [2, 4]])"
      ]
     },
     "execution_count": 23,
     "metadata": {},
     "output_type": "execute_result"
    }
   ],
   "source": [
    "a=np.array([[1,3],[2,4]])\n",
    "a"
   ]
  },
  {
   "cell_type": "markdown",
   "id": "a98162ac",
   "metadata": {},
   "source": [
    "<p style=\"color:Black;text-align:left;font-weight: bold;\"> sum(): </p> returns sum of values at the prescribed axis"
   ]
  },
  {
   "cell_type": "code",
   "execution_count": 24,
   "id": "4631bf1f",
   "metadata": {},
   "outputs": [
    {
     "name": "stdout",
     "output_type": "stream",
     "text": [
      "10 [3 7] [4 6]\n"
     ]
    }
   ],
   "source": [
    "#sum : array, row-wise, column-wise\n",
    "print(a.sum(),a.sum(axis=0),a.sum(axis=1))"
   ]
  },
  {
   "cell_type": "markdown",
   "id": "c0249e06",
   "metadata": {},
   "source": [
    "<p style=\"color:Black;text-align:left;font-weight: bold;\"> array.T : </p> converts rows to columns and vice-versa (Transpose)"
   ]
  },
  {
   "cell_type": "code",
   "execution_count": 25,
   "id": "c269cfb5",
   "metadata": {},
   "outputs": [
    {
     "data": {
      "text/plain": [
       "array([[1, 2],\n",
       "       [3, 4]])"
      ]
     },
     "execution_count": 25,
     "metadata": {},
     "output_type": "execute_result"
    }
   ],
   "source": [
    "#Transpose\n",
    "a.T"
   ]
  },
  {
   "cell_type": "code",
   "execution_count": 26,
   "id": "e8e433d9",
   "metadata": {
    "scrolled": true
   },
   "outputs": [
    {
     "name": "stdout",
     "output_type": "stream",
     "text": [
      "10 [4 6] [3 7]\n"
     ]
    }
   ],
   "source": [
    "#sum of Transpose of Matrix : array, row-wise, column-wise\n",
    "print(a.T.sum(),a.T.sum(axis=0),a.T.sum(axis=1))"
   ]
  },
  {
   "cell_type": "code",
   "execution_count": 27,
   "id": "eddb3048",
   "metadata": {
    "scrolled": true
   },
   "outputs": [
    {
     "data": {
      "text/plain": [
       "array([[1, 3],\n",
       "       [2, 4]])"
      ]
     },
     "execution_count": 27,
     "metadata": {},
     "output_type": "execute_result"
    }
   ],
   "source": [
    "a"
   ]
  },
  {
   "cell_type": "markdown",
   "id": "9f9a8e83",
   "metadata": {},
   "source": [
    "<p style=\"color:Black;text-align:left;font-weight: bold;\"> min(): </p> Returns Min values for the prescribed axis, returns min value of the whole array if axis is not mentioned."
   ]
  },
  {
   "cell_type": "code",
   "execution_count": 28,
   "id": "abb69342",
   "metadata": {},
   "outputs": [
    {
     "name": "stdout",
     "output_type": "stream",
     "text": [
      "1 [1 3] [1 2]\n"
     ]
    }
   ],
   "source": [
    "#Min value  : array, row-wise, column-wise\n",
    "print(a.min(),a.min(axis=0),a.min(axis=1))"
   ]
  },
  {
   "cell_type": "code",
   "execution_count": 29,
   "id": "dfbc9c46",
   "metadata": {
    "scrolled": true
   },
   "outputs": [
    {
     "data": {
      "text/plain": [
       "array([[3, 4],\n",
       "       [2, 1]])"
      ]
     },
     "execution_count": 29,
     "metadata": {},
     "output_type": "execute_result"
    }
   ],
   "source": [
    "a=np.array([[3,4],[2,1]])\n",
    "a"
   ]
  },
  {
   "cell_type": "markdown",
   "id": "4e2a183e",
   "metadata": {},
   "source": [
    "<p style=\"color:Black;text-align:left;font-weight: bold;\"> argmin(): </p> Returns <b>Index of Min</b> values for the prescribed axis, returns <b>index of min</b> value of the whole array if axis is not mentioned."
   ]
  },
  {
   "cell_type": "code",
   "execution_count": 30,
   "id": "c9ec31c3",
   "metadata": {},
   "outputs": [
    {
     "name": "stdout",
     "output_type": "stream",
     "text": [
      "3 [1 1] [0 1]\n"
     ]
    }
   ],
   "source": [
    "#Min value Index number  : array, row-wise, column-wise\n",
    "print(a.argmin(),a.argmin(axis=0),a.argmin(axis=1))"
   ]
  },
  {
   "cell_type": "markdown",
   "id": "bc27120b",
   "metadata": {},
   "source": [
    "<p style=\"color:Black;text-align:left;font-weight: bold;\"> nonzero(): </p> Returns the indices of non zero values in a tuple of rows/columns "
   ]
  },
  {
   "cell_type": "code",
   "execution_count": 31,
   "id": "0ebe52d5",
   "metadata": {},
   "outputs": [
    {
     "data": {
      "text/plain": [
       "(array([0, 0, 1, 1], dtype=int64), array([0, 1, 0, 1], dtype=int64))"
      ]
     },
     "execution_count": 31,
     "metadata": {},
     "output_type": "execute_result"
    }
   ],
   "source": [
    "a.nonzero()"
   ]
  },
  {
   "cell_type": "markdown",
   "id": "77e57ff7",
   "metadata": {},
   "source": [
    "<p style=\"color:Black;text-align:left;font-weight: bold;\"> count_nonzero(): </p> Returns the count of non zero values as per the prescribed axis"
   ]
  },
  {
   "cell_type": "code",
   "execution_count": 32,
   "id": "ff0d8175",
   "metadata": {},
   "outputs": [
    {
     "data": {
      "text/plain": [
       "array([1, 1, 1], dtype=int64)"
      ]
     },
     "execution_count": 32,
     "metadata": {},
     "output_type": "execute_result"
    }
   ],
   "source": [
    "i = np.eye(3)\n",
    "# array([[1., 0., 0.],\n",
    "#        [0., 1., 0.],\n",
    "#        [0., 0., 1.]])\n",
    "\n",
    "np.count_nonzero(i,axis=1)"
   ]
  },
  {
   "cell_type": "markdown",
   "id": "099ca7a8",
   "metadata": {},
   "source": [
    "<p style=\"color:Black;text-align:left;font-weight: bold;\"> ravel(): </p>converts multi-dimensional Array to single dimensional Array(1D)"
   ]
  },
  {
   "cell_type": "code",
   "execution_count": 33,
   "id": "c9c804d1",
   "metadata": {
    "scrolled": true
   },
   "outputs": [
    {
     "name": "stdout",
     "output_type": "stream",
     "text": [
      "normal Array: \n",
      " [[1. 0. 0.]\n",
      " [0. 1. 0.]\n",
      " [0. 0. 1.]] \n",
      "and ravel is : \n",
      " [1. 0. 0. 0. 1. 0. 0. 0. 1.]\n"
     ]
    }
   ],
   "source": [
    "print(\"normal Array: \\n\"        ,i,\n",
    "      \"\\nand ravel is : \\n\"   ,i.ravel())"
   ]
  },
  {
   "cell_type": "code",
   "execution_count": 34,
   "id": "128d8ddb",
   "metadata": {
    "scrolled": true
   },
   "outputs": [
    {
     "data": {
      "text/plain": [
       "array([[[0, 1],\n",
       "        [2, 3]],\n",
       "\n",
       "       [[4, 5],\n",
       "        [6, 7]]])"
      ]
     },
     "execution_count": 34,
     "metadata": {},
     "output_type": "execute_result"
    }
   ],
   "source": [
    "x = np.array([[[0,1],[2,3]],[[4,5],[6,7]]])\n",
    "x"
   ]
  },
  {
   "cell_type": "markdown",
   "id": "1052cb03",
   "metadata": {},
   "source": [
    "<p style=\"color:Black;text-align:left;font-weight: bold;\"> swapaxes(): </p> similar to transpose , converts rows to columns and vice-versa"
   ]
  },
  {
   "cell_type": "code",
   "execution_count": 35,
   "id": "99016155",
   "metadata": {},
   "outputs": [
    {
     "data": {
      "text/plain": [
       "array([[[0, 2],\n",
       "        [1, 3]],\n",
       "\n",
       "       [[4, 6],\n",
       "        [5, 7]]])"
      ]
     },
     "execution_count": 35,
     "metadata": {},
     "output_type": "execute_result"
    }
   ],
   "source": [
    "x.swapaxes(2,1)"
   ]
  },
  {
   "cell_type": "code",
   "execution_count": null,
   "id": "9e804649",
   "metadata": {},
   "outputs": [],
   "source": []
  },
  {
   "cell_type": "markdown",
   "id": "22b6329a",
   "metadata": {},
   "source": [
    "<p style=\"color:Black;text-align:left;font-weight: bold;\">  2. Some Basic Array Calculations : </p>"
   ]
  },
  {
   "cell_type": "code",
   "execution_count": 36,
   "id": "2e58a833",
   "metadata": {
    "scrolled": true
   },
   "outputs": [],
   "source": [
    "a\n",
    "# array([[3, 4],\n",
    "#        [2, 1]])\n",
    "\n",
    "\n",
    "b =np.array([[5,7],[6,8]])\n",
    "\n",
    "# array([[5, 7],\n",
    "#        [6, 8]])\n"
   ]
  },
  {
   "cell_type": "code",
   "execution_count": 37,
   "id": "ff80b1de",
   "metadata": {},
   "outputs": [
    {
     "data": {
      "text/plain": [
       "array([[5, 7],\n",
       "       [6, 8]])"
      ]
     },
     "execution_count": 37,
     "metadata": {},
     "output_type": "execute_result"
    }
   ],
   "source": [
    "#sum\n",
    "a+b\n",
    "# array([[ 8, 11],\n",
    "#        [ 8,  9]])\n",
    "\n",
    "#subtraction\n",
    "a-b\n",
    "# array([[-2, -3],\n",
    "#        [-4, -7]])\n",
    "\n",
    "# a to the power of 4\n",
    "a**4\n",
    "# array([[ 81, 256],\n",
    "#        [ 16,   1]]\n",
    "\n",
    "\n",
    "b\n",
    "# array([[5, 7],\n",
    "#        [6, 8]])\n",
    "c=b.copy()\n",
    "c\n",
    "# array([[5, 7],\n",
    "#        [6, 8]])"
   ]
  },
  {
   "cell_type": "code",
   "execution_count": 38,
   "id": "acbaa513",
   "metadata": {
    "scrolled": true
   },
   "outputs": [
    {
     "data": {
      "text/plain": [
       "4.0"
      ]
     },
     "execution_count": 38,
     "metadata": {},
     "output_type": "execute_result"
    }
   ],
   "source": [
    "#weighted average \n",
    "data=range(1,11)\n",
    "wt=range(10,0,-1)\n",
    "np.average(data, weights=wt) # (range*weight) / weight\n",
    "\n"
   ]
  },
  {
   "cell_type": "markdown",
   "id": "970ed48e",
   "metadata": {},
   "source": [
    "<p style=\"color:Black;text-align:left;font-weight: bold;\">  Iterate using nditerate(): </p>"
   ]
  },
  {
   "cell_type": "code",
   "execution_count": 39,
   "id": "7c0e557a",
   "metadata": {},
   "outputs": [
    {
     "name": "stdout",
     "output_type": "stream",
     "text": [
      "1\n",
      "2\n",
      "3\n",
      "4\n",
      "5\n",
      "6\n",
      "7\n",
      "8\n"
     ]
    }
   ],
   "source": [
    "arr = np.array([[[1, 2], [3, 4]], [[5, 6], [7, 8]]])\n",
    "\n",
    "for x in np.nditer(arr):\n",
    "  print(x)"
   ]
  },
  {
   "cell_type": "code",
   "execution_count": 40,
   "id": "8481a1db",
   "metadata": {},
   "outputs": [
    {
     "name": "stdout",
     "output_type": "stream",
     "text": [
      "(0,) 1\n",
      "(1,) 2\n",
      "(2,) 3\n"
     ]
    }
   ],
   "source": [
    "arr = np.array([1, 2, 3])\n",
    "\n",
    "for idx, x in np.ndenumerate(arr):\n",
    "  print(idx, x)"
   ]
  },
  {
   "cell_type": "code",
   "execution_count": 41,
   "id": "76bd77c7",
   "metadata": {},
   "outputs": [
    {
     "name": "stdout",
     "output_type": "stream",
     "text": [
      "(0, 0) 1\n",
      "(0, 1) 2\n",
      "(0, 2) 3\n",
      "(0, 3) 4\n",
      "(1, 0) 5\n",
      "(1, 1) 6\n",
      "(1, 2) 7\n",
      "(1, 3) 8\n"
     ]
    }
   ],
   "source": [
    "arr = np.array([[1, 2, 3, 4], [5, 6, 7, 8]])\n",
    "\n",
    "for idx, x in np.ndenumerate(arr):\n",
    "  print(idx, x)"
   ]
  },
  {
   "cell_type": "markdown",
   "id": "f18fd027",
   "metadata": {},
   "source": [
    "#### Joining two arrays"
   ]
  },
  {
   "cell_type": "code",
   "execution_count": 42,
   "id": "e01dd8fd",
   "metadata": {},
   "outputs": [
    {
     "name": "stdout",
     "output_type": "stream",
     "text": [
      "[1 2 3 4 5 6]\n"
     ]
    }
   ],
   "source": [
    "arr1 = np.array([1, 2, 3])\n",
    "\n",
    "arr2 = np.array([4, 5, 6])\n",
    "\n",
    "arr = np.concatenate((arr1, arr2))\n",
    "\n",
    "print(arr)"
   ]
  },
  {
   "cell_type": "code",
   "execution_count": 43,
   "id": "852d4e5e",
   "metadata": {},
   "outputs": [
    {
     "name": "stdout",
     "output_type": "stream",
     "text": [
      "[[1 2 5 6]\n",
      " [3 4 7 8]]\n"
     ]
    }
   ],
   "source": [
    "arr1 = np.array([[1, 2], [3, 4]])\n",
    "\n",
    "arr2 = np.array([[5, 6], [7, 8]])\n",
    "\n",
    "arr = np.concatenate((arr1, arr2), axis=1)\n",
    "\n",
    "print(arr)"
   ]
  },
  {
   "cell_type": "code",
   "execution_count": 44,
   "id": "b18301c7",
   "metadata": {},
   "outputs": [
    {
     "name": "stdout",
     "output_type": "stream",
     "text": [
      "[[1 2 3]\n",
      " [4 5 6]]\n"
     ]
    }
   ],
   "source": [
    "#using stack function;\n",
    "arr1 = np.array([1, 2, 3])\n",
    "\n",
    "arr2 = np.array([4, 5, 6])\n",
    "\n",
    "arr = np.stack((arr1, arr2), axis=0)\n",
    "\n",
    "print(arr)"
   ]
  },
  {
   "cell_type": "markdown",
   "id": "ec7fd4ca",
   "metadata": {},
   "source": [
    "#### hstack() - vstack() - dstack():"
   ]
  },
  {
   "cell_type": "code",
   "execution_count": 45,
   "id": "3d26fea3",
   "metadata": {},
   "outputs": [
    {
     "name": "stdout",
     "output_type": "stream",
     "text": [
      "[1 2 3 4 5 6]\n"
     ]
    }
   ],
   "source": [
    "arr1 = np.array([1, 2, 3])\n",
    "\n",
    "arr2 = np.array([4, 5, 6])\n",
    "\n",
    "arr = np.hstack((arr1, arr2))\n",
    "\n",
    "print(arr)"
   ]
  },
  {
   "cell_type": "code",
   "execution_count": 46,
   "id": "ff914169",
   "metadata": {},
   "outputs": [
    {
     "name": "stdout",
     "output_type": "stream",
     "text": [
      "[[1 2 3]\n",
      " [4 5 6]]\n"
     ]
    }
   ],
   "source": [
    "arr1 = np.array([1, 2, 3])\n",
    "\n",
    "arr2 = np.array([4, 5, 6])\n",
    "\n",
    "arr = np.vstack((arr1, arr2))\n",
    "\n",
    "print(arr)"
   ]
  },
  {
   "cell_type": "code",
   "execution_count": 47,
   "id": "fd8d03af",
   "metadata": {},
   "outputs": [
    {
     "name": "stdout",
     "output_type": "stream",
     "text": [
      "[[[1 4]\n",
      "  [2 5]\n",
      "  [3 6]]]\n"
     ]
    }
   ],
   "source": [
    "arr1 = np.array([1, 2, 3])\n",
    "\n",
    "arr2 = np.array([4, 5, 6])\n",
    "\n",
    "arr = np.dstack((arr1, arr2))\n",
    "\n",
    "print(arr)"
   ]
  },
  {
   "cell_type": "markdown",
   "id": "430929ed",
   "metadata": {},
   "source": [
    "#### array_split()"
   ]
  },
  {
   "cell_type": "code",
   "execution_count": 48,
   "id": "5e1473ca",
   "metadata": {},
   "outputs": [
    {
     "name": "stdout",
     "output_type": "stream",
     "text": [
      "[array([1, 2]), array([3, 4]), array([5]), array([6])]\n"
     ]
    }
   ],
   "source": [
    "arr = np.array([1, 2, 3, 4, 5, 6])\n",
    "\n",
    "newarr = np.array_split(arr, 4)\n",
    "\n",
    "print(newarr)"
   ]
  },
  {
   "cell_type": "code",
   "execution_count": 49,
   "id": "80e9a9ea",
   "metadata": {},
   "outputs": [
    {
     "name": "stdout",
     "output_type": "stream",
     "text": [
      "[array([[1, 2],\n",
      "       [3, 4]]), array([[5, 6],\n",
      "       [7, 8]]), array([[ 9, 10],\n",
      "       [11, 12]])]\n"
     ]
    }
   ],
   "source": [
    "arr = np.array([[1, 2], [3, 4], [5, 6], [7, 8], [9, 10], [11, 12]])\n",
    "\n",
    "newarr = np.array_split(arr, 3)\n",
    "\n",
    "print(newarr)"
   ]
  },
  {
   "cell_type": "code",
   "execution_count": 50,
   "id": "19e1b4fc",
   "metadata": {},
   "outputs": [
    {
     "name": "stdout",
     "output_type": "stream",
     "text": [
      "[array([[ 1],\n",
      "       [ 4],\n",
      "       [ 7],\n",
      "       [10],\n",
      "       [13],\n",
      "       [16]]), array([[ 2],\n",
      "       [ 5],\n",
      "       [ 8],\n",
      "       [11],\n",
      "       [14],\n",
      "       [17]]), array([[ 3],\n",
      "       [ 6],\n",
      "       [ 9],\n",
      "       [12],\n",
      "       [15],\n",
      "       [18]])]\n"
     ]
    }
   ],
   "source": [
    "arr = np.array([[1, 2, 3], [4, 5, 6], [7, 8, 9], [10, 11, 12], [13, 14, 15], [16, 17, 18]])\n",
    "\n",
    "newarr = np.array_split(arr, 3, axis=1)\n",
    "\n",
    "print(newarr)"
   ]
  },
  {
   "cell_type": "markdown",
   "id": "379a2da2",
   "metadata": {},
   "source": [
    "#### where()"
   ]
  },
  {
   "cell_type": "code",
   "execution_count": 51,
   "id": "7c0788c2",
   "metadata": {},
   "outputs": [
    {
     "name": "stdout",
     "output_type": "stream",
     "text": [
      "(array([1, 3, 5, 7], dtype=int64),)\n"
     ]
    }
   ],
   "source": [
    "arr = np.array([1, 2, 3, 4, 5, 6, 7, 8])\n",
    "\n",
    "x = np.where(arr%2 == 0)\n",
    "\n",
    "print(x)"
   ]
  },
  {
   "cell_type": "markdown",
   "id": "78b8b4f6",
   "metadata": {},
   "source": [
    "#### sort():"
   ]
  },
  {
   "cell_type": "code",
   "execution_count": 52,
   "id": "07b51479",
   "metadata": {},
   "outputs": [
    {
     "name": "stdout",
     "output_type": "stream",
     "text": [
      "[0 1 2 3]\n"
     ]
    }
   ],
   "source": [
    "arr = np.array([3, 2, 0, 1])\n",
    "\n",
    "print(np.sort(arr))"
   ]
  },
  {
   "cell_type": "code",
   "execution_count": 53,
   "id": "376196bc",
   "metadata": {},
   "outputs": [
    {
     "name": "stdout",
     "output_type": "stream",
     "text": [
      "[[2 3 4]\n",
      " [0 1 5]]\n"
     ]
    }
   ],
   "source": [
    "arr = np.array([[3, 2, 4], [5, 0, 1]])\n",
    "\n",
    "print(np.sort(arr))"
   ]
  },
  {
   "cell_type": "code",
   "execution_count": null,
   "id": "6025ab17",
   "metadata": {},
   "outputs": [],
   "source": []
  },
  {
   "cell_type": "code",
   "execution_count": null,
   "id": "25f04ff1",
   "metadata": {},
   "outputs": [],
   "source": []
  },
  {
   "cell_type": "markdown",
   "id": "9bd2b50e-d22d-4e50-a856-8e9bfc1d51fc",
   "metadata": {},
   "source": [
    "## Written by [Shafi Mohiddin Shaik]( https://www.linkedin.com/in/shafi-s-0279651b0/)\n",
    "> [Refer Numpy Documentation](https://docs.scipy.org/doc/numpy-1.6.0/reference/generated/numpy.ndarray.html)"
   ]
  }
 ],
 "metadata": {
  "kernelspec": {
   "display_name": "Python 3 (ipykernel)",
   "language": "python",
   "name": "python3"
  },
  "language_info": {
   "codemirror_mode": {
    "name": "ipython",
    "version": 3
   },
   "file_extension": ".py",
   "mimetype": "text/x-python",
   "name": "python",
   "nbconvert_exporter": "python",
   "pygments_lexer": "ipython3",
   "version": "3.9.11"
  }
 },
 "nbformat": 4,
 "nbformat_minor": 5
}
