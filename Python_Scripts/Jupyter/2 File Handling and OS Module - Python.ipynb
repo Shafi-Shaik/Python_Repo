{
 "cells": [
  {
   "cell_type": "markdown",
   "id": "dfada248",
   "metadata": {},
   "source": [
    "### <center> OS Module in Python </center> ###"
   ]
  },
  {
   "cell_type": "code",
   "execution_count": 1,
   "id": "b7299d41",
   "metadata": {},
   "outputs": [],
   "source": [
    "import os  "
   ]
  },
  {
   "cell_type": "code",
   "execution_count": 2,
   "id": "99e19710",
   "metadata": {},
   "outputs": [
    {
     "name": "stdout",
     "output_type": "stream",
     "text": [
      "nt\n"
     ]
    }
   ],
   "source": [
    "print(os.name)   "
   ]
  },
  {
   "cell_type": "code",
   "execution_count": 3,
   "id": "5d846460",
   "metadata": {},
   "outputs": [
    {
     "data": {
      "text/plain": [
       "'C:\\\\Users\\\\Shafi\\\\Desktop'"
      ]
     },
     "execution_count": 3,
     "metadata": {},
     "output_type": "execute_result"
    }
   ],
   "source": [
    "os.getcwd()\n"
   ]
  },
  {
   "cell_type": "code",
   "execution_count": 4,
   "id": "4f995dff",
   "metadata": {},
   "outputs": [],
   "source": [
    "os.mkdir(\"C:\\\\Users\\Shafi\\Desktop\\OS_Python_Folder\")  \n",
    "os.mkdir(\"C:\\\\Users\\Shafi\\Desktop\\OS_Python_Folder\\sub_folder1\")  \n",
    "os.mkdir(\"C:\\\\Users\\Shafi\\Desktop\\OS_Python_Folder\\sub_folder2\")  "
   ]
  },
  {
   "cell_type": "code",
   "execution_count": 5,
   "id": "5a4294fd",
   "metadata": {},
   "outputs": [
    {
     "data": {
      "text/plain": [
       "['.ipynb_checkpoints',\n",
       " 'Amazon Chime.lnk',\n",
       " 'Amazon-Leadership-Principles.png',\n",
       " 'asus model name.png',\n",
       " 'desktop.ini',\n",
       " 'Excel.lnk',\n",
       " 'Jupyter Notebook (Anaconda3).lnk',\n",
       " 'Learn Python Simple Way! .pdf',\n",
       " 'MySQL Workbench 8.0 CE.lnk',\n",
       " 'OS Module - Python.ipynb',\n",
       " 'OS_Python_Folder',\n",
       " 'Python - Basics 1.ipynb',\n",
       " 'Python - Basics 2.ipynb',\n",
       " 'Shortest Python handbook from Zero-Hero.pdf',\n",
       " 'Word.lnk']"
      ]
     },
     "execution_count": 5,
     "metadata": {},
     "output_type": "execute_result"
    }
   ],
   "source": [
    "os.listdir() # showing all files and folders of cwd"
   ]
  },
  {
   "cell_type": "code",
   "execution_count": 6,
   "id": "52aa1aa7",
   "metadata": {},
   "outputs": [],
   "source": [
    "os.chdir('C:\\\\Users\\Shafi\\Desktop\\OS_Python_Folder')"
   ]
  },
  {
   "cell_type": "code",
   "execution_count": 7,
   "id": "c3d8415c",
   "metadata": {},
   "outputs": [],
   "source": [
    "os.rmdir('sub_folder1')\n"
   ]
  },
  {
   "cell_type": "code",
   "execution_count": 8,
   "id": "a10be7c8",
   "metadata": {},
   "outputs": [],
   "source": [
    "os.rename('sub_folder2','renamed_folder')\n"
   ]
  },
  {
   "cell_type": "markdown",
   "id": "8bcfe947",
   "metadata": {},
   "source": [
    "## <center> File Handling in Python </center>"
   ]
  },
  {
   "cell_type": "code",
   "execution_count": 9,
   "id": "8358aa0e",
   "metadata": {},
   "outputs": [
    {
     "data": {
      "text/plain": [
       "'C:\\\\Users\\\\Shafi\\\\Desktop\\\\OS_Python_Folder'"
      ]
     },
     "execution_count": 9,
     "metadata": {},
     "output_type": "execute_result"
    }
   ],
   "source": [
    "os.getcwd()"
   ]
  },
  {
   "cell_type": "code",
   "execution_count": 10,
   "id": "18dde19e",
   "metadata": {},
   "outputs": [],
   "source": [
    "file1=open('file1.txt', 'a') #append mode as it'll create if file not exists"
   ]
  },
  {
   "cell_type": "code",
   "execution_count": 11,
   "id": "16c77e3f",
   "metadata": {},
   "outputs": [
    {
     "data": {
      "text/plain": [
       "54"
      ]
     },
     "execution_count": 11,
     "metadata": {},
     "output_type": "execute_result"
    }
   ],
   "source": [
    "file1.write('This is written using file.write() method of Python \\n ')"
   ]
  },
  {
   "cell_type": "code",
   "execution_count": 12,
   "id": "64785a8a",
   "metadata": {},
   "outputs": [],
   "source": [
    "file1.close()"
   ]
  },
  {
   "cell_type": "code",
   "execution_count": 13,
   "id": "b424240f",
   "metadata": {},
   "outputs": [],
   "source": [
    "file2= open('dummy.csv', 'w')"
   ]
  },
  {
   "cell_type": "code",
   "execution_count": 14,
   "id": "e6b42a29",
   "metadata": {},
   "outputs": [],
   "source": [
    "file2.write('emp_id,name,salary \\n' )\n",
    "\n",
    "#writing same data 9times \n",
    "for i in range(1,10):\n",
    "    file2.write('101,shafi,1200 \\n 102,shaik,12030 \\n 103,Mohiddin,1200 \\n 105,Uddin,1200 \\n 106,Ravi,1400 \\n 107,Uddin,2600 \\n')"
   ]
  },
  {
   "cell_type": "code",
   "execution_count": 15,
   "id": "96cbca54",
   "metadata": {},
   "outputs": [],
   "source": [
    "file2.close()"
   ]
  },
  {
   "cell_type": "code",
   "execution_count": null,
   "id": "608259dd",
   "metadata": {},
   "outputs": [],
   "source": []
  }
 ],
 "metadata": {
  "kernelspec": {
   "display_name": "Python 3 (ipykernel)",
   "language": "python",
   "name": "python3"
  },
  "language_info": {
   "codemirror_mode": {
    "name": "ipython",
    "version": 3
   },
   "file_extension": ".py",
   "mimetype": "text/x-python",
   "name": "python",
   "nbconvert_exporter": "python",
   "pygments_lexer": "ipython3",
   "version": "3.9.12"
  }
 },
 "nbformat": 4,
 "nbformat_minor": 5
}
