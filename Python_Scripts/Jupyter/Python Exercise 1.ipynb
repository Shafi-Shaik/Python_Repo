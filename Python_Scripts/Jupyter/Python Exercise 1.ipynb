{
 "cells": [
  {
   "cell_type": "markdown",
   "id": "f1c5352d",
   "metadata": {},
   "source": [
    "<h3 style=\"text-align:center; font-weight:bold;color:#F87C16\"> Fibonacci: Loop Method </h3>"
   ]
  },
  {
   "cell_type": "code",
   "execution_count": 1,
   "id": "b8bcc7ac",
   "metadata": {},
   "outputs": [
    {
     "name": "stdout",
     "output_type": "stream",
     "text": [
      "Enter the length of the fibonacci series you would want to print: \n",
      "6\n",
      "Fibonacci Series - \n",
      "0 1 1 2 3 5 "
     ]
    }
   ],
   "source": [
    "def fibonacci_1(length):\n",
    "     \n",
    "    first = 0\n",
    "    second = 1\n",
    "    \n",
    "    print(first, second, end=\" \")\n",
    "\n",
    "    length -= 2\n",
    "        \n",
    "    while length > 0:\n",
    "        \n",
    "        print(first + second, end=\" \")\n",
    "        #Updating the first and second variables for finding the next number. \n",
    "        temp = second\n",
    "        second = first + second\n",
    "        first = temp\n",
    "             \n",
    "        length -= 1\n",
    "try:        \n",
    "    x= int(input('Enter the length of the fibonacci series you would want to print: \\n'))   \n",
    "    print(\"Fibonacci Series - \")\n",
    "    fibonacci_1(x)\n",
    "\n",
    "except:\n",
    "    print('Please Enter numeric value')\n",
    "\n"
   ]
  },
  {
   "cell_type": "markdown",
   "id": "342c991b",
   "metadata": {},
   "source": [
    "<h3 style=\"text-align:center; font-weight:bold;color:#F87C16\"> Fibonacci: Recursive Method </h3>"
   ]
  },
  {
   "cell_type": "code",
   "execution_count": 2,
   "id": "16d92df9",
   "metadata": {},
   "outputs": [
    {
     "name": "stdout",
     "output_type": "stream",
     "text": [
      "Enter the length of the fibonacci series you would want to print: \n",
      "6\n",
      "0 1 1 2 3 5 "
     ]
    }
   ],
   "source": [
    "def fibonacci_2(first, second, length):\n",
    "\n",
    "    if(length == 0):\n",
    "        return\n",
    "    print(first + second, end=\" \")\n",
    "\n",
    "    fibonacci_2(second, first+second, length-1)\n",
    "\n",
    "x= int(input('Enter the length of the fibonacci series you would want to print: \\n'))        \n",
    "print(0,1,end=\" \")\n",
    "fibonacci_2(0,1,x-2)"
   ]
  },
  {
   "cell_type": "markdown",
   "id": "b0c99452",
   "metadata": {},
   "source": [
    "<h3 style=\"text-align:center; font-weight:bold;color:#F87C16\"> Given a string, write a function “recurring char” to find the strings first recurring character. Return “None” if there is no recurring character. </h3>"
   ]
  },
  {
   "cell_type": "code",
   "execution_count": 3,
   "id": "250fdae7",
   "metadata": {
    "scrolled": true
   },
   "outputs": [
    {
     "name": "stdout",
     "output_type": "stream",
     "text": [
      "enter the string name: \n",
      "adf\n"
     ]
    },
    {
     "data": {
      "text/plain": [
       "'adf does not have any duplicate character'"
      ]
     },
     "execution_count": 3,
     "metadata": {},
     "output_type": "execute_result"
    }
   ],
   "source": [
    "str1 = input('enter the string name: \\n')\n",
    "# input = 'shafi shaik'\n",
    "# output = s\n",
    "\n",
    "def dup_str(s1):\n",
    "    uniq=[]\n",
    "    for j,i in enumerate(s1):        \n",
    "        if i in uniq:\n",
    "            return (f\"{i} is the first character which is duplicated at {j+1}th Position\")\n",
    "            \n",
    "        uniq.append(i)\n",
    "    return (f\"{str1} does not have any duplicate character\")\n",
    "    \n",
    "                \n",
    "dup_str(str1)            \n"
   ]
  },
  {
   "cell_type": "code",
   "execution_count": 4,
   "id": "a3f52b84",
   "metadata": {},
   "outputs": [
    {
     "name": "stdout",
     "output_type": "stream",
     "text": [
      "Repeating char: s\n"
     ]
    },
    {
     "data": {
      "text/plain": [
       "0"
      ]
     },
     "execution_count": 4,
     "metadata": {},
     "output_type": "execute_result"
    }
   ],
   "source": [
    "def first_repeating(s):\n",
    "    d = {}\n",
    "    for i, c in enumerate(s):\n",
    "        if c in d:\n",
    "            print(\"Repeating char:\", c)\n",
    "            return d[c]\n",
    "        else:\n",
    "            d[c] = i\n",
    "            \n",
    "    return \"No repeating characters\"\n",
    "\n",
    "first_repeating('sfsasdsdsss')"
   ]
  },
  {
   "cell_type": "markdown",
   "id": "48f95160",
   "metadata": {},
   "source": [
    "<h3 style=\"text-align:center; font-weight:bold;color:#F87C16\"> Addition of 2 binary values in string format </h3>"
   ]
  },
  {
   "cell_type": "code",
   "execution_count": 14,
   "id": "aae79151",
   "metadata": {},
   "outputs": [
    {
     "name": "stdout",
     "output_type": "stream",
     "text": [
      "2\n",
      "10 1\n",
      "1\n",
      "100 1\n",
      "0\n",
      "1000 1\n"
     ]
    }
   ],
   "source": [
    "a= '1111'\n",
    "b='1110'\n",
    "max_length =  max(len(a),len(b))\n",
    "a=a.zfill(max_length)\n",
    "b=b.zfill(max_length)\n",
    "res=\"\"\n",
    "carry=0\n",
    "\n",
    "for i in range(max_length-1,-1,-1): \n",
    "    if int(a[i])+int(b[i])==2:\n",
    "        res=res+'0'\n",
    "        carry='1'\n",
    "        print(i)\n",
    "        print(res,carry)\n",
    "        \n",
    "    else:\n",
    "        res=res+'1'\n",
    "        carry='0'\n",
    "\n",
    "\n",
    "# 0110\n",
    "# 1010\n",
    "# bin_sum(a,b,max_length)\n",
    "\n",
    "        "
   ]
  },
  {
   "cell_type": "code",
   "execution_count": 12,
   "id": "673a2ab2",
   "metadata": {},
   "outputs": [
    {
     "data": {
      "text/plain": [
       "'123df'"
      ]
     },
     "execution_count": 12,
     "metadata": {},
     "output_type": "execute_result"
    }
   ],
   "source": []
  }
 ],
 "metadata": {
  "kernelspec": {
   "display_name": "Python 3 (ipykernel)",
   "language": "python",
   "name": "python3"
  },
  "language_info": {
   "codemirror_mode": {
    "name": "ipython",
    "version": 3
   },
   "file_extension": ".py",
   "mimetype": "text/x-python",
   "name": "python",
   "nbconvert_exporter": "python",
   "pygments_lexer": "ipython3",
   "version": "3.9.12"
  }
 },
 "nbformat": 4,
 "nbformat_minor": 5
}
