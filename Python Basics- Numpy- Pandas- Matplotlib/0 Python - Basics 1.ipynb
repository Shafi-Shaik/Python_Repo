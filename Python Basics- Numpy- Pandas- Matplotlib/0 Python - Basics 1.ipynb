{
 "cells": [
  {
   "cell_type": "markdown",
   "id": "d417dde9",
   "metadata": {},
   "source": [
    "<h1 align=Center> Python Basics 1 <h1>\n",
    "    <h4> Topics Covered in this File <h4>\n",
    "        <ol> \n",
    "            <li> What is Python? When & Who invented it? </li><br>\n",
    "            <li> Variables </li><br>\n",
    "            <li> Datatypes </li><br>\n",
    "            <li> Loops </li><br>\n",
    "            <li> Conditional Statements</li><br>\n",
    "            <li> Function</li>\n",
    "                    <ul> \n",
    "                        <li> Normal Function </li>\n",
    "                        <li> Function : Parameterized & Non - Parameterized </li>\n",
    "                        <li> Function with Arbitrary Arguments </li>\n",
    "                        <li> Function with Arbitrary Keyword Arguments </li>\n",
    "                        <li> Recursive Function </li>\n",
    "                        <li> Lambda Function </li>\n",
    "                       </ul>\n",
    "                  <br>\n",
    "         </ol>"
   ]
  },
  {
   "cell_type": "markdown",
   "id": "a38cbcf6",
   "metadata": {},
   "source": [
    "<strong> What is Python? </strong>\n",
    "            \n",
    "\n",
    "<p>\n",
    "    Python is a High-Level General Purpose Language. The Syntax is relatively easier than other general purpose languages like Java,C, C++ etc. \n",
    "</p>\n",
    "\n",
    "<p>\n",
    "    Python is an interpreter language.It is dynamically type and garbage collected language.It emphasizes code-readability with the use of indentation.\n",
    "</p>\n",
    "\n",
    "\n",
    "<strong> When & Who invented it? </strong>\n",
    "<p> \n",
    "    Python was developed in the late 1980s by Guido van Rossum at Centrum Wiskunde & Informatica (CWI) in the Netherlands as a successor to the ABC.\n",
    "</p>\n",
    "\n",
    "<strong><p> Core Philosophy behind Python Invention: </p></strong>\n",
    "<ul>\n",
    "<li>Beautiful is better than ugly.</li>\n",
    "<li>Explicit is better than implicit.</li>\n",
    "<li>Simple is better than complex.</li>\n",
    "<li>Complex is better than complicated.</li>\n",
    "<li>Readability.</li>\n",
    "</ul>"
   ]
  },
  {
   "cell_type": "markdown",
   "id": "b483b8e3",
   "metadata": {},
   "source": [
    "# <b><center> Variables:</center></b>"
   ]
  },
  {
   "cell_type": "markdown",
   "id": "9607fb63",
   "metadata": {},
   "source": [
    "\n",
    "<p> \n",
    "    Variables acts as a container to store values which can be used during program execution. There are some rules which we should follow in order to create a valid variable.\n",
    "</p>\n",
    "\n",
    "<strong><p> Rules for defining Variable: </p></strong>\n",
    "<ol>\n",
    "<li>Variable should start with Alphabets or Underscore, no numeric value is allowed as first character.</li>\n",
    "<li>Variable can have alphabets, numerics and underscore, no other special characters are allowed</li>\n",
    "<li>Variable names are case-sensitive (age, Age and AGE are three different variables)</li>\n",
    "<li>Reserved keywords should not be used as variable name as it has it's own meaning</li>\n",
    "</ol>"
   ]
  },
  {
   "cell_type": "markdown",
   "id": "f70031d6",
   "metadata": {},
   "source": [
    "<b> Keywords List :</b> <i>Below are the list of keywords in Python </i>"
   ]
  },
  {
   "cell_type": "code",
   "execution_count": 1,
   "id": "eec4c62a",
   "metadata": {},
   "outputs": [
    {
     "name": "stdout",
     "output_type": "stream",
     "text": [
      "['False', 'None', 'True', '__peg_parser__', 'and', 'as', 'assert', 'async', 'await', 'break', 'class', 'continue', 'def', 'del', 'elif', 'else', 'except', 'finally', 'for', 'from', 'global', 'if', 'import', 'in', 'is', 'lambda', 'nonlocal', 'not', 'or', 'pass', 'raise', 'return', 'try', 'while', 'with', 'yield']\n"
     ]
    }
   ],
   "source": [
    "import keyword as kw\n",
    "print(kw.kwlist)"
   ]
  },
  {
   "cell_type": "markdown",
   "id": "3c0588d6",
   "metadata": {},
   "source": [
    "# <b><center> Datatypes:</center></b>"
   ]
  },
  {
   "cell_type": "markdown",
   "id": "4c4f5202",
   "metadata": {},
   "source": [
    "<b>Number :</b> <i>Int, Float & Complex </i>"
   ]
  },
  {
   "cell_type": "code",
   "execution_count": 2,
   "id": "08433d29",
   "metadata": {},
   "outputs": [
    {
     "name": "stdout",
     "output_type": "stream",
     "text": [
      "Value of a is 3\n",
      "DataType of 3 is <class 'int'>\n"
     ]
    }
   ],
   "source": [
    "a = 3\n",
    "print(f\"Value of a is {a}\")\n",
    "print(f\"DataType of {a} is {type(a)}\")"
   ]
  },
  {
   "cell_type": "code",
   "execution_count": 3,
   "id": "3b1b496b",
   "metadata": {},
   "outputs": [
    {
     "name": "stdout",
     "output_type": "stream",
     "text": [
      "Value of a is 3.5\n",
      "DataType of 3.5 is <class 'float'>\n"
     ]
    }
   ],
   "source": [
    "a = 3.5\n",
    "print(f\"Value of a is {a}\")\n",
    "print(f\"DataType of {a} is {type(a)}\")"
   ]
  },
  {
   "cell_type": "code",
   "execution_count": 4,
   "id": "29c6250a",
   "metadata": {},
   "outputs": [
    {
     "name": "stdout",
     "output_type": "stream",
     "text": [
      "Value of a is (1+0j)\n",
      "DataType of (1+0j) is <class 'complex'>\n"
     ]
    }
   ],
   "source": [
    "a = 1+0j\n",
    "print(f\"Value of a is {a}\")\n",
    "print(f\"DataType of {a} is {type(a)}\")"
   ]
  },
  {
   "cell_type": "markdown",
   "id": "90c4ab97",
   "metadata": {},
   "source": [
    "<b> STRING :</b> <i> Single & Multicharacter comes under \"str\" class </i>"
   ]
  },
  {
   "cell_type": "code",
   "execution_count": 5,
   "id": "07860bb9",
   "metadata": {},
   "outputs": [
    {
     "name": "stdout",
     "output_type": "stream",
     "text": [
      "Value of a is s\n",
      "DataType of s is <class 'str'>\n"
     ]
    }
   ],
   "source": [
    "a = 's'\n",
    "print(f\"Value of a is {a}\")\n",
    "print(f\"DataType of {a} is {type(a)}\")"
   ]
  },
  {
   "cell_type": "code",
   "execution_count": 6,
   "id": "9b32fa3e",
   "metadata": {
    "scrolled": true
   },
   "outputs": [
    {
     "name": "stdout",
     "output_type": "stream",
     "text": [
      "Value of a is shafi\n",
      "DataType of shafi is <class 'str'>\n"
     ]
    }
   ],
   "source": [
    "a = 'shafi'\n",
    "print(f\"Value of a is {a}\")\n",
    "print(f\"DataType of {a} is {type(a)}\")"
   ]
  },
  {
   "cell_type": "markdown",
   "id": "b39e4550",
   "metadata": {},
   "source": [
    "<b> List :</b> Lists are **Ordered**(means can access using index number), **Changeable** and **Duplicates are allowed**"
   ]
  },
  {
   "cell_type": "code",
   "execution_count": 7,
   "id": "74987208",
   "metadata": {},
   "outputs": [
    {
     "name": "stdout",
     "output_type": "stream",
     "text": [
      "Value of a is [1, 2, 3]\n",
      "DataType of [1, 2, 3] is <class 'list'>\n"
     ]
    }
   ],
   "source": [
    "a = [1,2,3]\n",
    "print(f\"Value of a is {a}\")\n",
    "print(f\"DataType of {a} is {type(a)}\")"
   ]
  },
  {
   "cell_type": "markdown",
   "id": "62a746ea",
   "metadata": {},
   "source": [
    "<b> Tuple :</b> Tuples are **Ordered**(means can access using index number), **Un-Changeable** and **Duplicates are allowed**"
   ]
  },
  {
   "cell_type": "code",
   "execution_count": 8,
   "id": "62ac4bb3",
   "metadata": {},
   "outputs": [
    {
     "name": "stdout",
     "output_type": "stream",
     "text": [
      "Value of a is (1, 2, 3)\n",
      "DataType of (1, 2, 3) is <class 'tuple'>\n"
     ]
    }
   ],
   "source": [
    "a = (1,2,3)\n",
    "print(f\"Value of a is {a}\")\n",
    "print(f\"DataType of {a} is {type(a)}\")"
   ]
  },
  {
   "cell_type": "markdown",
   "id": "ccbe97b4",
   "metadata": {},
   "source": [
    "<b> Dictionary :</b> Dictionary is **Ordered**(means can access using index number), **Changeable** and **No Duplicates** are allowed"
   ]
  },
  {
   "cell_type": "code",
   "execution_count": 9,
   "id": "f03eb500",
   "metadata": {},
   "outputs": [
    {
     "name": "stdout",
     "output_type": "stream",
     "text": [
      "Value of a is {'name': 'shafi', 'age': 100, 'employed': True, 'Salary': None}\n",
      "DataType of {'name': 'shafi', 'age': 100, 'employed': True, 'Salary': None} is <class 'dict'>\n"
     ]
    }
   ],
   "source": [
    "a = {'name':'shafi', 'age':100, 'employed':True, 'Salary': None}\n",
    "print(f\"Value of a is {a}\")\n",
    "print(f\"DataType of {a} is {type(a)}\")"
   ]
  },
  {
   "cell_type": "markdown",
   "id": "d4310dc2",
   "metadata": {},
   "source": [
    "<b> SET :</b> SET is **UnOrdered**(means can access using index number), **Un-Changeable** and **No Duplicates** are allowed"
   ]
  },
  {
   "cell_type": "code",
   "execution_count": 10,
   "id": "ca7f6796",
   "metadata": {
    "scrolled": true
   },
   "outputs": [
    {
     "name": "stdout",
     "output_type": "stream",
     "text": [
      "Value of a is {'shafi', True, 100, None}\n",
      "DataType of {'shafi', True, 100, None} is <class 'set'>\n"
     ]
    }
   ],
   "source": [
    "a = {'shafi',100,True,None}\n",
    "print(f\"Value of a is {a}\")\n",
    "print(f\"DataType of {a} is {type(a)}\")"
   ]
  },
  {
   "cell_type": "markdown",
   "id": "a21637ed",
   "metadata": {},
   "source": [
    "# <b><center> Loops in Python: For, While Loop </center></b>"
   ]
  },
  {
   "cell_type": "markdown",
   "id": "e40b433e",
   "metadata": {},
   "source": [
    "## <b> For Loop :</b>"
   ]
  },
  {
   "cell_type": "code",
   "execution_count": 11,
   "id": "a5b82fe8",
   "metadata": {
    "scrolled": true
   },
   "outputs": [
    {
     "name": "stdout",
     "output_type": "stream",
     "text": [
      "shafi\n",
      "100\n",
      "True\n",
      "None\n"
     ]
    }
   ],
   "source": [
    "a = ['shafi',100,True,None] #list\n",
    "for y in a:\n",
    "    print(y)\n"
   ]
  },
  {
   "cell_type": "code",
   "execution_count": 12,
   "id": "54f76864",
   "metadata": {},
   "outputs": [
    {
     "name": "stdout",
     "output_type": "stream",
     "text": [
      "1\n",
      "3\n",
      "5\n",
      "7\n",
      "9\n"
     ]
    }
   ],
   "source": [
    "# for loop with 3 params(start,end,increment)\n",
    "for i in range(1,10,2):\n",
    "    print(i)"
   ]
  },
  {
   "cell_type": "code",
   "execution_count": 13,
   "id": "b18a76d8",
   "metadata": {},
   "outputs": [
    {
     "name": "stdout",
     "output_type": "stream",
     "text": [
      "1\n",
      "2\n",
      "3\n",
      "4\n",
      "5\n",
      "6\n",
      "7\n",
      "8\n",
      "9\n"
     ]
    }
   ],
   "source": [
    "# for loop with 2 params(start,end) -> increment takes 1 by default\n",
    "for i in range(1,10):\n",
    "    print(i)"
   ]
  },
  {
   "cell_type": "code",
   "execution_count": 14,
   "id": "8ac17f69",
   "metadata": {},
   "outputs": [
    {
     "name": "stdout",
     "output_type": "stream",
     "text": [
      "0\n",
      "1\n",
      "2\n",
      "3\n",
      "4\n",
      "5\n",
      "6\n",
      "7\n",
      "8\n",
      "9\n"
     ]
    }
   ],
   "source": [
    "# for loop with 2 params(end) -> start takes 0 by default & increment takes 1 by default\n",
    "for i in range(10):\n",
    "    print(i)"
   ]
  },
  {
   "cell_type": "markdown",
   "id": "f8fc2b39",
   "metadata": {},
   "source": [
    "## <b> While Loop :</b>"
   ]
  },
  {
   "cell_type": "code",
   "execution_count": 15,
   "id": "244e9d67",
   "metadata": {},
   "outputs": [
    {
     "name": "stdout",
     "output_type": "stream",
     "text": [
      "shafi\n",
      "100\n",
      "True\n",
      "None\n"
     ]
    }
   ],
   "source": [
    "a = ['shafi',100,True,None] #list\n",
    "y=0\n",
    "while y<len(a):\n",
    "    print(a[y])\n",
    "    y=y+1\n"
   ]
  },
  {
   "cell_type": "code",
   "execution_count": 16,
   "id": "55b0162c",
   "metadata": {
    "scrolled": true
   },
   "outputs": [
    {
     "name": "stdout",
     "output_type": "stream",
     "text": [
      "1\n",
      "3\n",
      "5\n",
      "7\n",
      "9\n"
     ]
    }
   ],
   "source": [
    "i=1\n",
    "while i<10:\n",
    "    print(i)\n",
    "    i=i+2"
   ]
  },
  {
   "cell_type": "markdown",
   "id": "3adc482a",
   "metadata": {},
   "source": [
    "# <b><center> Conditional Statement: if,   if... else,    if...elif...else </center></b>"
   ]
  },
  {
   "cell_type": "markdown",
   "id": "a08fe732",
   "metadata": {},
   "source": [
    "#### Simple IF\n"
   ]
  },
  {
   "cell_type": "code",
   "execution_count": 17,
   "id": "98523b9d",
   "metadata": {
    "scrolled": false
   },
   "outputs": [
    {
     "name": "stdout",
     "output_type": "stream",
     "text": [
      "enter any character from alphabets: 5\n"
     ]
    }
   ],
   "source": [
    "\n",
    "a=input(\"enter any character from alphabets: \")\n",
    "if a in ('a','e','i','o','u'):\n",
    "    print(f\"You've entered the character '{a}' and it is a Vowel\")"
   ]
  },
  {
   "cell_type": "markdown",
   "id": "26856482",
   "metadata": {},
   "source": [
    "##### IF...ELSE\n"
   ]
  },
  {
   "cell_type": "code",
   "execution_count": 18,
   "id": "7fe5023b",
   "metadata": {},
   "outputs": [
    {
     "name": "stdout",
     "output_type": "stream",
     "text": [
      "enter any character from alphabets: 6\n",
      "You've entered the character '6' and it is a Consonant\n"
     ]
    }
   ],
   "source": [
    "a=input(\"enter any character from alphabets: \")\n",
    "if a in ('a','e','i','o','u'):\n",
    "    print(f\"You've entered the character '{a}' and it is Vowel\")\n",
    "else:\n",
    "    print(f\"You've entered the character '{a}' and it is a Consonant\")"
   ]
  },
  {
   "cell_type": "markdown",
   "id": "0bcc32c7",
   "metadata": {},
   "source": [
    "#### IF.....ELIF.....ELSE\n"
   ]
  },
  {
   "cell_type": "code",
   "execution_count": 19,
   "id": "be35ff6f",
   "metadata": {},
   "outputs": [
    {
     "name": "stdout",
     "output_type": "stream",
     "text": [
      "enter any character from alphabets: 6\n",
      "You've entered the character '6' and it is not a character\n"
     ]
    }
   ],
   "source": [
    "\n",
    "\n",
    "a=input(\"enter any character from alphabets: \")\n",
    "if a in ('a','e','i','o','u'):\n",
    "    print(f\"You've entered the character '{a}' and it is Vowel\")\n",
    "elif a.isalpha() :\n",
    "    print(f\"You've entered the character '{a}' and it is a Consonant\")\n",
    "else:\n",
    "    print(f\"You've entered the character '{a}' and it is not a character\")"
   ]
  },
  {
   "cell_type": "markdown",
   "id": "666e4fe3",
   "metadata": {},
   "source": [
    "# <b><center>Function in Python:</center></b>"
   ]
  },
  {
   "cell_type": "markdown",
   "id": "785fcea1",
   "metadata": {},
   "source": [
    "A function is a block of code which only runs when it is called.You can pass data, known as parameters, into a function.\n",
    "\n",
    "A function can return data as a result."
   ]
  },
  {
   "cell_type": "markdown",
   "id": "4008fdb8",
   "metadata": {},
   "source": [
    "#### Simple Function\n"
   ]
  },
  {
   "cell_type": "code",
   "execution_count": 20,
   "id": "00a19724",
   "metadata": {},
   "outputs": [
    {
     "name": "stdout",
     "output_type": "stream",
     "text": [
      "Hello from a function\n"
     ]
    }
   ],
   "source": [
    "def my_function():\n",
    "  print(\"Hello from a function\")\n",
    "\n",
    "my_function()"
   ]
  },
  {
   "cell_type": "markdown",
   "id": "1931e595",
   "metadata": {},
   "source": [
    "#### Function - Single Parameter\n"
   ]
  },
  {
   "cell_type": "code",
   "execution_count": 21,
   "id": "eedcb385",
   "metadata": {},
   "outputs": [
    {
     "name": "stdout",
     "output_type": "stream",
     "text": [
      " Good Morning, Emil\n",
      " Good Morning, Shafi\n"
     ]
    }
   ],
   "source": [
    "def my_function(fname):\n",
    "  print( \" Good Morning, \" + fname)\n",
    "\n",
    "my_function(\"Emil\")\n",
    "my_function(\"Shafi\")"
   ]
  },
  {
   "cell_type": "markdown",
   "id": "fd4ef045",
   "metadata": {},
   "source": [
    "#### Function - Single + Default Parameter\n"
   ]
  },
  {
   "cell_type": "code",
   "execution_count": 22,
   "id": "e88014d5",
   "metadata": {},
   "outputs": [
    {
     "name": "stdout",
     "output_type": "stream",
     "text": [
      " Good Morning, Shafi\n",
      " Good Morning, Python\n"
     ]
    }
   ],
   "source": [
    "def my_function(fname='Python'):\n",
    "  print( \" Good Morning, \" + fname)\n",
    "\n",
    "my_function(\"Shafi\")\n",
    "my_function()"
   ]
  },
  {
   "cell_type": "markdown",
   "id": "aa9b7f4f",
   "metadata": {},
   "source": [
    "#### Function - Multiple Parameter\n"
   ]
  },
  {
   "cell_type": "code",
   "execution_count": 23,
   "id": "08a4e9ad",
   "metadata": {},
   "outputs": [
    {
     "name": "stdout",
     "output_type": "stream",
     "text": [
      "12\n",
      "47\n"
     ]
    }
   ],
   "source": [
    "\n",
    "# Program to add and display sum of n number of integer\n",
    "def add(num1,num2,num3):\n",
    "    return num1+num2+num3\n",
    "\n",
    "print(add(3,4,5))\n",
    "print(add(34,12,1))"
   ]
  },
  {
   "cell_type": "markdown",
   "id": "ba4c693e",
   "metadata": {},
   "source": [
    "#### Function - Multiple + default Parameter\n"
   ]
  },
  {
   "cell_type": "code",
   "execution_count": 24,
   "id": "2533d320",
   "metadata": {},
   "outputs": [
    {
     "name": "stdout",
     "output_type": "stream",
     "text": [
      "7\n",
      "29.3\n"
     ]
    }
   ],
   "source": [
    "\n",
    "# Program to add and display sum of n number of integer\n",
    "def add(num1=0,num2=0,num3=0):\n",
    "    return num1+num2+num3\n",
    "\n",
    "print(add(3,4))\n",
    "print(add(3,23.3,3))"
   ]
  },
  {
   "cell_type": "markdown",
   "id": "884aaffb",
   "metadata": {},
   "source": [
    "#### Function - Arbitrary Arguments ####\n",
    "As the name suggests, sometimes the programmer does not know the number of arguments to be passed into the function. In such cases, Python arbitrary arguments are used. In this, we use the asterisk (*) to denote this method before the parameter in the function. This is also called as Python <b> *args </b>\n"
   ]
  },
  {
   "cell_type": "code",
   "execution_count": 25,
   "id": "d3fe8d77",
   "metadata": {
    "scrolled": true
   },
   "outputs": [
    {
     "name": "stdout",
     "output_type": "stream",
     "text": [
      "The youngest child is Linus\n",
      "Sum: 25\n",
      "Sum: 32\n"
     ]
    }
   ],
   "source": [
    "def my_function(*kids):\n",
    "    print(\"The youngest child is \" + kids[2])\n",
    "\n",
    "my_function(\"Emil\", \"Tobias\", \"Linus\")\n",
    "\n",
    "\n",
    "\n",
    "# Program to add and display sum of n number of integer\n",
    "def add(*num):\n",
    "    sum = 0;\n",
    "    for n in num:\n",
    "        sum = sum + n;\n",
    "    print(\"Sum:\", sum)\n",
    "\n",
    "add(3,4,5,6,7)\n",
    "add(1,2,3,5,6,7,8)\n"
   ]
  },
  {
   "cell_type": "markdown",
   "id": "c49c4498",
   "metadata": {},
   "source": [
    "#### Function - Arbitrary Keywords Arguments ####\n",
    "As the name suggests, sometimes the programmer does not know the number of arguments to be passed into the function. In such cases, Python arbitrary arguments are used. In this, we use double asterisks (\\*\\*) to denote this method before the parameter in the function. This is also called as Python <b> \\*\\* kwargs\\*\\* </b>.\n"
   ]
  },
  {
   "cell_type": "code",
   "execution_count": 26,
   "id": "a3874c75",
   "metadata": {
    "scrolled": true
   },
   "outputs": [
    {
     "name": "stdout",
     "output_type": "stream",
     "text": [
      "His last name is Refsnes\n"
     ]
    }
   ],
   "source": [
    "def my_function(**kid):\n",
    "  print(\"His last name is \" + kid[\"lname\"])\n",
    "\n",
    "my_function(fname = \"Tobias\", lname = \"Refsnes\")\n"
   ]
  },
  {
   "cell_type": "markdown",
   "id": "1ffe7a21",
   "metadata": {},
   "source": [
    "### Recursion ###\n",
    "Recursion is a common mathematical and programming concept. It means that a function calls itself. This has the benefit of meaning that you can loop through data to reach a result.\n"
   ]
  },
  {
   "cell_type": "code",
   "execution_count": 27,
   "id": "c4c3161d",
   "metadata": {},
   "outputs": [
    {
     "name": "stdout",
     "output_type": "stream",
     "text": [
      "\n",
      "\n",
      "Recursion Example Results\n",
      "1\n",
      "3\n",
      "6\n",
      "10\n",
      "15\n",
      "21\n"
     ]
    },
    {
     "data": {
      "text/plain": [
       "21"
      ]
     },
     "execution_count": 27,
     "metadata": {},
     "output_type": "execute_result"
    }
   ],
   "source": [
    "def tri_recursion(k):\n",
    "  if(k > 0):\n",
    "    result = k + tri_recursion(k - 1)\n",
    "    print(result)\n",
    "  else:\n",
    "    result = 0\n",
    "  return result\n",
    "\n",
    "print(\"\\n\\nRecursion Example Results\")\n",
    "tri_recursion(6)\n"
   ]
  },
  {
   "cell_type": "markdown",
   "id": "412b2658",
   "metadata": {},
   "source": [
    "### Lambda Function ###\n",
    "a) A lambda function is a small anonymous function.<br>\n",
    "b) A lambda function can take any number of arguments, but can only have one expression."
   ]
  },
  {
   "cell_type": "code",
   "execution_count": 28,
   "id": "07bf14f4",
   "metadata": {},
   "outputs": [
    {
     "name": "stdout",
     "output_type": "stream",
     "text": [
      "13\n"
     ]
    }
   ],
   "source": [
    "x = lambda a, b, c : a + b + c\n",
    "print(x(5, 6, 2))"
   ]
  },
  {
   "cell_type": "markdown",
   "id": "f5ee2f3d",
   "metadata": {},
   "source": [
    "<right><footer>  Created by Shafi     &nbsp;&nbsp;&nbsp;                &copy;2022</footer> </right>"
   ]
  }
 ],
 "metadata": {
  "kernelspec": {
   "display_name": "Python 3 (ipykernel)",
   "language": "python",
   "name": "python3"
  },
  "language_info": {
   "codemirror_mode": {
    "name": "ipython",
    "version": 3
   },
   "file_extension": ".py",
   "mimetype": "text/x-python",
   "name": "python",
   "nbconvert_exporter": "python",
   "pygments_lexer": "ipython3",
   "version": "3.9.12"
  }
 },
 "nbformat": 4,
 "nbformat_minor": 5
}
