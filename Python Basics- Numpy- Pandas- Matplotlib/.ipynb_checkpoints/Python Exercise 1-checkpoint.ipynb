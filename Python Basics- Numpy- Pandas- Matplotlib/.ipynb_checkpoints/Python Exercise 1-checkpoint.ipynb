{
 "cells": [
  {
   "cell_type": "markdown",
   "id": "f1c5352d",
   "metadata": {},
   "source": [
    "<h3 style=\"text-align:center; font-weight:bold;color:#F87C16\"> Fibonacci: Loop Method </h3>"
   ]
  },
  {
   "cell_type": "code",
   "execution_count": 1,
   "id": "b8bcc7ac",
   "metadata": {},
   "outputs": [
    {
     "name": "stdout",
     "output_type": "stream",
     "text": [
      "Fibonacci Series - \n",
      "0 1 1 2 3 5 "
     ]
    }
   ],
   "source": [
    "def fibonacci_1(length):\n",
    "     \n",
    "    first = 0\n",
    "    second = 1\n",
    "    \n",
    "    print(first, second, end=\" \")\n",
    "\n",
    "    length -= 2\n",
    "        \n",
    "    while length > 0:\n",
    "        \n",
    "        print(first + second, end=\" \")\n",
    "        #Updating the first and second variables for finding the next number. \n",
    "        temp = second\n",
    "        second = first + second\n",
    "        first = temp\n",
    "             \n",
    "        length -= 1\n",
    "try:        \n",
    "    x= 6 #int(input('Enter the length of the fibonacci series you would want to print: \\n'))   \n",
    "    print(\"Fibonacci Series - \")\n",
    "    fibonacci_1(x)\n",
    "\n",
    "except:\n",
    "    print('Please Enter numeric value')\n",
    "\n"
   ]
  },
  {
   "cell_type": "markdown",
   "id": "342c991b",
   "metadata": {},
   "source": [
    "<h3 style=\"text-align:center; font-weight:bold;color:#F87C16\"> Fibonacci: Recursive Method </h3>"
   ]
  },
  {
   "cell_type": "code",
   "execution_count": 2,
   "id": "16d92df9",
   "metadata": {},
   "outputs": [
    {
     "name": "stdout",
     "output_type": "stream",
     "text": [
      "0 1 1 2 3 5 8 13 "
     ]
    }
   ],
   "source": [
    "def fibonacci_2(first, second, length):\n",
    "\n",
    "    if(length == 0):\n",
    "        return\n",
    "    print(first + second, end=\" \")\n",
    "\n",
    "    fibonacci_2(second, first+second, length-1)\n",
    "\n",
    "x= 8 #int(input('Enter the length of the fibonacci series you would want to print: \\n'))        \n",
    "print(0,1,end=\" \")\n",
    "fibonacci_2(0,1,x-2)"
   ]
  },
  {
   "cell_type": "markdown",
   "id": "b0c99452",
   "metadata": {},
   "source": [
    "<h3 style=\"text-align:center; font-weight:bold;color:#F87C16\"> Given a string, write a function “recurring char” to find the strings first recurring character. Return “None” if there is no recurring character. </h3>"
   ]
  },
  {
   "cell_type": "code",
   "execution_count": 3,
   "id": "250fdae7",
   "metadata": {
    "scrolled": true
   },
   "outputs": [
    {
     "data": {
      "text/plain": [
       "'s is the first character which is duplicated at 7th Position'"
      ]
     },
     "execution_count": 3,
     "metadata": {},
     "output_type": "execute_result"
    }
   ],
   "source": [
    "str1 = 'shafi shaik' #input('enter the string name: \\n')\n",
    "# input = 'shafi shaik'\n",
    "# output = s\n",
    "\n",
    "def dup_str(s1):\n",
    "    uniq=[]\n",
    "    for j,i in enumerate(s1):        \n",
    "        if i in uniq:\n",
    "            return (f\"{i} is the first character which is duplicated at {j+1}th Position\")\n",
    "            \n",
    "        uniq.append(i)\n",
    "    return (f\"{str1} does not have any duplicate character\")\n",
    "    \n",
    "                \n",
    "dup_str(str1)            \n"
   ]
  },
  {
   "cell_type": "code",
   "execution_count": 4,
   "id": "a3f52b84",
   "metadata": {},
   "outputs": [
    {
     "name": "stdout",
     "output_type": "stream",
     "text": [
      "Repeating char: s\n"
     ]
    },
    {
     "data": {
      "text/plain": [
       "0"
      ]
     },
     "execution_count": 4,
     "metadata": {},
     "output_type": "execute_result"
    }
   ],
   "source": [
    "def first_repeating(s):\n",
    "    d = {}\n",
    "    for i, c in enumerate(s):\n",
    "        if c in d:\n",
    "            print(\"Repeating char:\", c)\n",
    "            return d[c]\n",
    "        else:\n",
    "            d[c] = i\n",
    "            \n",
    "    return \"No repeating characters\"\n",
    "\n",
    "first_repeating('sfsasdsdsss')"
   ]
  },
  {
   "cell_type": "markdown",
   "id": "48f95160",
   "metadata": {},
   "source": [
    "<h3 style=\"text-align:center; font-weight:bold;color:#F87C16\"> Addition of 2 binary values in string format </h3>"
   ]
  },
  {
   "cell_type": "code",
   "execution_count": 5,
   "id": "aae79151",
   "metadata": {
    "scrolled": true
   },
   "outputs": [
    {
     "data": {
      "text/plain": [
       "'10000'"
      ]
     },
     "execution_count": 5,
     "metadata": {},
     "output_type": "execute_result"
    }
   ],
   "source": [
    "\n",
    "#e.g 1              #e.g 2\n",
    "#   101011011            #     110\n",
    "#   000011000            #    1010\n",
    "#   ---------            #  ---------\n",
    "#   101110011                10000\n",
    "#   ---------            #  ---------\n",
    "\n",
    "\n",
    "a= '110'   #input('enter the binary value for var a :')\n",
    "b= '1010'  #input('enter the binary value for var b :')\n",
    "max_length =  max(len(a),len(b))\n",
    "a=a.zfill(max_length)\n",
    "b=b.zfill(max_length)\n",
    "\n",
    "\n",
    "def binary_sum(a,b,max_length):\n",
    "    res=\"\"\n",
    "    carry='0'\n",
    "    for i in range(max_length-1,-1,-1): \n",
    "        if int(a[i])+int(b[i])+int(carry)==0:\n",
    "            res=res+'0'\n",
    "            carry='0'\n",
    "\n",
    "        elif int(a[i])+int(b[i])+int(carry)==1:\n",
    "            res=res+'1'\n",
    "            carry='0'\n",
    "        elif int(a[i])+int(b[i])+int(carry)==2:\n",
    "            res=res+'0'\n",
    "            carry='1'\n",
    "        else:\n",
    "            res=res+'1'\n",
    "            carry='1'\n",
    "    return carry+res[::-1]\n",
    "\n",
    "binary_sum(a,b,max_length)\n",
    "\n"
   ]
  },
  {
   "cell_type": "markdown",
   "id": "e22a031e",
   "metadata": {},
   "source": [
    "<h3 style=\"text-align:center; font-weight:bold;color:#F87C16\"> Leap Year or Not </h3>"
   ]
  },
  {
   "cell_type": "markdown",
   "id": "6e15f67e",
   "metadata": {},
   "source": [
    "Leap Year :<br> 1) It should be divisible by 4 <br>  2) If it divisible by 4 , then it should be divisible by both  100 & 400 "
   ]
  },
  {
   "cell_type": "code",
   "execution_count": 6,
   "id": "30f44d7d",
   "metadata": {},
   "outputs": [
    {
     "name": "stdout",
     "output_type": "stream",
     "text": [
      "24 is a Leap Year\n",
      "1900 is Not a Leap Year\n"
     ]
    }
   ],
   "source": [
    "year=24 #int(input('Enter the year to check for Leap Year:'))\n",
    "\n",
    "def leapCheck(year):\n",
    "    if year%4!=0 :\n",
    "        print (f\"{year} is Not a Leap Year\")\n",
    "    else:\n",
    "        if year%100!=0 or year%400==0:\n",
    "            print (f\"{year} is a Leap Year\")\n",
    "        else:\n",
    "            print (f\"{year} is Not a Leap Year\")\n",
    "        \n",
    "leapCheck(24)\n",
    "leapCheck(1900)"
   ]
  },
  {
   "cell_type": "code",
   "execution_count": 7,
   "id": "5ea2d0a2",
   "metadata": {},
   "outputs": [
    {
     "name": "stdout",
     "output_type": "stream",
     "text": [
      "24 is  Leap Year\n",
      "1900 is Not a Leap Year\n"
     ]
    }
   ],
   "source": [
    "year=1900 #int(input('Enter the year to check for Leap Year:'))\n",
    "\n",
    "def leapCheck(year):\n",
    "    if year%4!=0 :\n",
    "        print (f\"{year} is Not a Leap Year\")\n",
    "    else:\n",
    "        if year%100==0 and year%400!=0:\n",
    "            print (f\"{year} is Not a Leap Year\")\n",
    "        else:\n",
    "            print (f\"{year} is  Leap Year\")\n",
    "leapCheck(24)\n",
    "leapCheck(1900)"
   ]
  },
  {
   "cell_type": "code",
   "execution_count": null,
   "id": "e7cc97ef",
   "metadata": {},
   "outputs": [],
   "source": []
  },
  {
   "cell_type": "markdown",
   "id": "b0c976f8",
   "metadata": {},
   "source": [
    "<h3 style=\"text-align:center; font-weight:bold;color:#F87C16\"> Largest and Smallest among 3 values </h3>"
   ]
  },
  {
   "cell_type": "code",
   "execution_count": 8,
   "id": "a161c482",
   "metadata": {},
   "outputs": [
    {
     "name": "stdout",
     "output_type": "stream",
     "text": [
      "3 is the largest among (1, 3, 2)\n"
     ]
    }
   ],
   "source": [
    "a1,a2,a3=1,3,2\n",
    "\n",
    "def largest(a,b,c):\n",
    "    if (a>=b) & (a>=c):\n",
    "        print (f\"{a} is the largest  among {a,b,c}\")\n",
    "    elif (b>=a) & (b>=c):\n",
    "        print (f\"{b} is the largest among {a,b,c}\")\n",
    "    elif (c>=b) & (c>=a):\n",
    "        print (f\"{c} is the largest among {a,b,c}\")\n",
    "    else:\n",
    "        print('incorrect input', a,b,c)\n",
    "        \n",
    "largest(a1,a2,a3)"
   ]
  },
  {
   "cell_type": "code",
   "execution_count": 78,
   "id": "32f74c66",
   "metadata": {},
   "outputs": [
    {
     "name": "stdout",
     "output_type": "stream",
     "text": [
      "2 is the smallest among (4, 2, 2)\n"
     ]
    }
   ],
   "source": [
    "a1,a2,a3=4,2,2\n",
    "\n",
    "def largest(a,b,c):\n",
    "    if not ((a>=b) & (a>=c)):\n",
    "        print (f\"{a} is the smallest  among {a,b,c}\")\n",
    "    elif not((b>=a) & (b>=c)):\n",
    "        print (f\"{b} is the smallest among {a,b,c}\")\n",
    "    elif not((c>=b) & (c>=a)):\n",
    "        print (f\"{c} is the smallest among {a,b,c}\")\n",
    "    else:\n",
    "        print('incorrect input', a,b,c)\n",
    "        \n",
    "largest(a1,a2,a3)"
   ]
  },
  {
   "cell_type": "markdown",
   "id": "81ede612",
   "metadata": {},
   "source": [
    "<h3 style=\"text-align:center; font-weight:bold;color:#F87C16\"> ArmStrong Number </h3>"
   ]
  },
  {
   "cell_type": "code",
   "execution_count": 62,
   "id": "ee4b2ec4",
   "metadata": {},
   "outputs": [
    {
     "name": "stdout",
     "output_type": "stream",
     "text": [
      "153is Armstrong Number\n",
      "133 is Not a Armstrong Number\n",
      "371is Armstrong Number\n"
     ]
    }
   ],
   "source": [
    "# 153       #1^3 =1, 5^3 = 125, 3^3 = 27 \n",
    "\n",
    "def armCheck(x):\n",
    "    result=0\n",
    "    n=x\n",
    "    while x>0:    \n",
    "        result=result+((x%10)**3)\n",
    "        x=x//10\n",
    "    if result == n:\n",
    "        print('{0}is Armstrong Number'.format(n))\n",
    "    else:\n",
    "        print(f'{n} is Not a Armstrong Number')\n",
    "   \n",
    "armCheck(153)\n",
    "armCheck(133)\n",
    "armCheck(371)\n"
   ]
  },
  {
   "cell_type": "markdown",
   "id": "5e1f1932",
   "metadata": {},
   "source": [
    "<h3 style=\"text-align:center; font-weight:bold;color:#F87C16\">  Remove Special Characters From a String </h3>"
   ]
  },
  {
   "cell_type": "code",
   "execution_count": 87,
   "id": "96c51e96",
   "metadata": {},
   "outputs": [
    {
     "data": {
      "text/plain": [
       "'shafibookwasntthisthatdes'"
      ]
     },
     "execution_count": 87,
     "metadata": {},
     "output_type": "execute_result"
    }
   ],
   "source": [
    "ignore_characters = \", .@!#$%^&*()'-?\"\n",
    "string=\" shafi book. wasn't & this @ that #$des\"\n",
    "\n",
    "\n",
    "def Str_clean(str,ign_chars=ignore_characters):\n",
    "    final_string =\"\"\n",
    "    for i in string:\n",
    "        if i not in ign_chars:\n",
    "            final_string =final_string+i\n",
    "    return final_string\n",
    "\n",
    "Str_clean(string)\n",
    "            "
   ]
  },
  {
   "cell_type": "markdown",
   "id": "d368a815",
   "metadata": {},
   "source": [
    "<h3 style=\"text-align:center; font-weight:bold;color:#F87C16\"> Half Pyramid of * </h3>"
   ]
  },
  {
   "cell_type": "code",
   "execution_count": 105,
   "id": "5f1da876",
   "metadata": {},
   "outputs": [
    {
     "name": "stdout",
     "output_type": "stream",
     "text": [
      "*\n",
      "**\n",
      "***\n",
      "****\n",
      "*****\n"
     ]
    }
   ],
   "source": [
    "n=5\n",
    "\n",
    "for rows in range(n):\n",
    "    for star in range(rows+1):\n",
    "        print('*',end='')\n",
    "    print()"
   ]
  },
  {
   "cell_type": "markdown",
   "id": "ec898216",
   "metadata": {},
   "source": [
    "<h3 style=\"text-align:center; font-weight:bold;color:#F87C16\"> Full Pyramid of * </h3>"
   ]
  },
  {
   "cell_type": "code",
   "execution_count": 106,
   "id": "6d17a42a",
   "metadata": {},
   "outputs": [
    {
     "name": "stdout",
     "output_type": "stream",
     "text": [
      "      *\n",
      "     ***\n",
      "    *****\n",
      "   *******\n",
      "  *********\n"
     ]
    }
   ],
   "source": [
    "n=5\n",
    "\n",
    "for row in range(n):\n",
    "    for space in range(n-row+1):\n",
    "        print(' ',end='')\n",
    "    for star in range(row+1):\n",
    "        print('*',end='')\n",
    "    for star in range(row):\n",
    "        print('*',end='')\n",
    "    print()"
   ]
  },
  {
   "cell_type": "markdown",
   "id": "8b1c796c",
   "metadata": {},
   "source": [
    "<h3 style=\"text-align:center; font-weight:bold;color:#F87C16\"> Multiplication Table </h3>"
   ]
  },
  {
   "cell_type": "code",
   "execution_count": 112,
   "id": "fdede390",
   "metadata": {},
   "outputs": [
    {
     "name": "stdout",
     "output_type": "stream",
     "text": [
      "17 * 1 = 17\n",
      "17 * 2 = 34\n",
      "17 * 3 = 51\n",
      "17 * 4 = 68\n",
      "17 * 5 = 85\n",
      "17 * 6 = 102\n",
      "17 * 7 = 119\n",
      "17 * 8 = 136\n",
      "17 * 9 = 153\n",
      "17 * 10 = 170\n",
      "17 * 11 = 187\n",
      "17 * 12 = 204\n",
      "17 * 13 = 221\n",
      "17 * 14 = 238\n",
      "17 * 15 = 255\n"
     ]
    }
   ],
   "source": [
    "n=17\n",
    "\n",
    "for i in range(1,16):\n",
    "    print(f\"{n} * {i} = {n*i}\")"
   ]
  },
  {
   "cell_type": "markdown",
   "id": "872c2e77",
   "metadata": {},
   "source": [
    "<h3 style=\"text-align:center; font-weight:bold;color:#F87C16\"> Prime Number </h3>"
   ]
  },
  {
   "cell_type": "code",
   "execution_count": null,
   "id": "8a04a7fd",
   "metadata": {},
   "outputs": [],
   "source": []
  }
 ],
 "metadata": {
  "kernelspec": {
   "display_name": "Python 3 (ipykernel)",
   "language": "python",
   "name": "python3"
  },
  "language_info": {
   "codemirror_mode": {
    "name": "ipython",
    "version": 3
   },
   "file_extension": ".py",
   "mimetype": "text/x-python",
   "name": "python",
   "nbconvert_exporter": "python",
   "pygments_lexer": "ipython3",
   "version": "3.9.12"
  }
 },
 "nbformat": 4,
 "nbformat_minor": 5
}
