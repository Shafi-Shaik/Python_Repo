{
 "cells": [
  {
   "cell_type": "code",
   "execution_count": 1,
   "id": "76d38374",
   "metadata": {},
   "outputs": [],
   "source": [
    "import json\n",
    "import pandas as pd"
   ]
  },
  {
   "cell_type": "markdown",
   "id": "5e5e9db1",
   "metadata": {},
   "source": [
    "# JSON Parse"
   ]
  },
  {
   "cell_type": "code",
   "execution_count": 2,
   "id": "7bf5877b",
   "metadata": {},
   "outputs": [
    {
     "name": "stdout",
     "output_type": "stream",
     "text": [
      "<class 'str'>\n"
     ]
    }
   ],
   "source": [
    "my_str= '''{\n",
    "       \"Name\":{\"first\":\"shafi\", \"last\":\"shaik\"},\n",
    "        \"age\":100,\n",
    "        \"Interests\":{\"physical\": [\"cricket\",\"TT\"],\"digital\":[\"GTA-5\",\"Youtube\"]},                   \n",
    "         \"Job\": \"Data Engineer\"\n",
    "           }\n",
    "           '''\n",
    "\n",
    "print(type(my_str))"
   ]
  },
  {
   "cell_type": "code",
   "execution_count": 3,
   "id": "e84bacfc",
   "metadata": {},
   "outputs": [
    {
     "data": {
      "text/plain": [
       "dict"
      ]
     },
     "execution_count": 3,
     "metadata": {},
     "output_type": "execute_result"
    }
   ],
   "source": [
    "my_json=json.loads(my_str)\n",
    "type(my_json)"
   ]
  },
  {
   "cell_type": "code",
   "execution_count": 4,
   "id": "08405cc0",
   "metadata": {},
   "outputs": [
    {
     "name": "stdout",
     "output_type": "stream",
     "text": [
      "First Name=shafi\n",
      "Last Name=shaik \n",
      "Age=100 \n",
      "Interests = cricket,TT\n"
     ]
    }
   ],
   "source": [
    "first_name= my_json['Name']['first']\n",
    "last_name= my_json['Name']['last']\n",
    "age= my_json['age']\n",
    "physical_interest= my_json['Interests']['physical']\n",
    "Job= my_json['Job']\n",
    "\n",
    "print(f\"First Name={first_name}\\nLast Name={last_name} \\nAge={age} \\nInterests = {physical_interest[0]},{physical_interest[1]}\")"
   ]
  },
  {
   "cell_type": "code",
   "execution_count": 5,
   "id": "59dbad8b",
   "metadata": {},
   "outputs": [],
   "source": [
    "with open('S:/GitHub/data/us_states.json') as f:\n",
    "    data=json.load(f)"
   ]
  },
  {
   "cell_type": "code",
   "execution_count": 6,
   "id": "7e2f3a10",
   "metadata": {},
   "outputs": [],
   "source": [
    "# us_df= pd.DataFrame(columns=['State','State_Code','Area_Code'])\n",
    "# df=pd.DataFrame(columns=['State_Code','area_code'])\n",
    "\n",
    "# for i in range(len(data['states'])):\n",
    "#         us_df.loc[i]=data['states'][i]['name'],data['states'][i]['abbreviation'],data['states'][i]['area_codes']\n",
    "    \n",
    "# us_df.shape  "
   ]
  },
  {
   "cell_type": "code",
   "execution_count": 7,
   "id": "08c8873d",
   "metadata": {},
   "outputs": [
    {
     "data": {
      "text/plain": [
       "(50, 3)"
      ]
     },
     "execution_count": 7,
     "metadata": {},
     "output_type": "execute_result"
    }
   ],
   "source": [
    "us_df=pd.json_normalize(data['states'])\n",
    "us_df.shape"
   ]
  },
  {
   "cell_type": "code",
   "execution_count": 8,
   "id": "9e692e35",
   "metadata": {},
   "outputs": [
    {
     "data": {
      "text/html": [
       "<div>\n",
       "<style scoped>\n",
       "    .dataframe tbody tr th:only-of-type {\n",
       "        vertical-align: middle;\n",
       "    }\n",
       "\n",
       "    .dataframe tbody tr th {\n",
       "        vertical-align: top;\n",
       "    }\n",
       "\n",
       "    .dataframe thead th {\n",
       "        text-align: right;\n",
       "    }\n",
       "</style>\n",
       "<table border=\"1\" class=\"dataframe\">\n",
       "  <thead>\n",
       "    <tr style=\"text-align: right;\">\n",
       "      <th></th>\n",
       "      <th>name</th>\n",
       "      <th>abbreviation</th>\n",
       "      <th>area_codes</th>\n",
       "    </tr>\n",
       "  </thead>\n",
       "  <tbody>\n",
       "    <tr>\n",
       "      <th>0</th>\n",
       "      <td>Alabama</td>\n",
       "      <td>AL</td>\n",
       "      <td>205</td>\n",
       "    </tr>\n",
       "    <tr>\n",
       "      <th>1</th>\n",
       "      <td>Alabama</td>\n",
       "      <td>AL</td>\n",
       "      <td>251</td>\n",
       "    </tr>\n",
       "    <tr>\n",
       "      <th>2</th>\n",
       "      <td>Alabama</td>\n",
       "      <td>AL</td>\n",
       "      <td>256</td>\n",
       "    </tr>\n",
       "    <tr>\n",
       "      <th>3</th>\n",
       "      <td>Alabama</td>\n",
       "      <td>AL</td>\n",
       "      <td>334</td>\n",
       "    </tr>\n",
       "    <tr>\n",
       "      <th>4</th>\n",
       "      <td>Alabama</td>\n",
       "      <td>AL</td>\n",
       "      <td>938</td>\n",
       "    </tr>\n",
       "  </tbody>\n",
       "</table>\n",
       "</div>"
      ],
      "text/plain": [
       "      name abbreviation area_codes\n",
       "0  Alabama           AL        205\n",
       "1  Alabama           AL        251\n",
       "2  Alabama           AL        256\n",
       "3  Alabama           AL        334\n",
       "4  Alabama           AL        938"
      ]
     },
     "execution_count": 8,
     "metadata": {},
     "output_type": "execute_result"
    }
   ],
   "source": [
    "finaldf = us_df.explode('area_codes').reset_index(drop=True)\n",
    "\n",
    "finaldf.head()"
   ]
  },
  {
   "cell_type": "code",
   "execution_count": 9,
   "id": "b90aa472",
   "metadata": {},
   "outputs": [],
   "source": [
    "finaldf.to_csv('S:/GitHub/data/us_states.csv',index=False)"
   ]
  },
  {
   "cell_type": "markdown",
   "id": "c6c270ea",
   "metadata": {},
   "source": [
    "# XML Parse"
   ]
  },
  {
   "cell_type": "markdown",
   "id": "c030a11d",
   "metadata": {},
   "source": [
    "## <center> using xml.dom.minidom </center>"
   ]
  },
  {
   "cell_type": "code",
   "execution_count": 10,
   "id": "d1fe9b12",
   "metadata": {},
   "outputs": [],
   "source": [
    "import xml.dom.minidom as dom"
   ]
  },
  {
   "cell_type": "code",
   "execution_count": 11,
   "id": "c32999cc",
   "metadata": {},
   "outputs": [],
   "source": [
    "# next line character (\\n) is treated as one xml tag\n",
    "document = \"\"\"\n",
    "<slideshow>\n",
    "    <title>Demo slideshow</title>\n",
    "    <slide>\n",
    "        <title>Slide title</title>\n",
    "        <point>This is 1st point of 1st slide</point>\n",
    "        <point>This is 2nd point of 1st slide</point>\n",
    "    </slide>\n",
    "\n",
    "    <slide>\n",
    "        <title>Another demo slide</title>\n",
    "        <point>This is 1st point of 2nd slide</point>\n",
    "        <point>This is 2nd point of 2nd slide</point>\n",
    "        <point>This is 3rd point of 2nd slide</point>\n",
    "    </slide>\n",
    "</slideshow>\n",
    "\"\"\"\n",
    " "
   ]
  },
  {
   "cell_type": "code",
   "execution_count": 12,
   "id": "5649328b",
   "metadata": {},
   "outputs": [],
   "source": [
    "domtree = dom.parseString(document)\n",
    "root=domtree.documentElement"
   ]
  },
  {
   "cell_type": "code",
   "execution_count": 13,
   "id": "f7fcbfcf",
   "metadata": {
    "scrolled": true
   },
   "outputs": [
    {
     "name": "stdout",
     "output_type": "stream",
     "text": [
      "first Level childrens:  [<DOM Text node \"'\\n    '\">, <DOM Element: title at 0x20cfc562550>, <DOM Text node \"'\\n    '\">, <DOM Element: slide at 0x20cfc584160>, <DOM Text node \"'\\n\\n    '\">, <DOM Element: slide at 0x20cfc5843a0>, <DOM Text node \"'\\n'\">]\n",
      "\n",
      "second Level childrens:  [<DOM Text node \"'\\n        '\">, <DOM Element: title at 0x20cfc5841f0>, <DOM Text node \"'\\n        '\">, <DOM Element: point at 0x20cfc584280>, <DOM Text node \"'\\n        '\">, <DOM Element: point at 0x20cfc584310>, <DOM Text node \"'\\n    '\">]\n",
      "\n",
      "Third Level childrens Values:  This is 1st point of 2nd slide\n",
      "\n"
     ]
    }
   ],
   "source": [
    "print('first Level childrens: ',root.childNodes) #childrens of slideshow (root tag) ->title,slide,slide\n",
    "print()\n",
    "\n",
    "print('second Level childrens: ',root.childNodes[3].childNodes) #childrens of title (of slideshow tag) -> title name \n",
    "print()\n",
    "\n",
    "print('Third Level childrens Values: ',root.childNodes[5].childNodes[3].childNodes[0].nodeValue) #value of point tag no.2 of 2nd slide\n",
    "print()\n"
   ]
  },
  {
   "cell_type": "code",
   "execution_count": 14,
   "id": "dbbb3450",
   "metadata": {},
   "outputs": [
    {
     "name": "stdout",
     "output_type": "stream",
     "text": [
      "main title is: Demo slideshow\n",
      "slide title is: Slide title\n",
      "first point is: This is 1st point of 1st slide\n",
      "second point is: This is 2nd point of 1st slide\n",
      "\n"
     ]
    }
   ],
   "source": [
    "main_title=root.getElementsByTagName('title')[0].childNodes[0].nodeValue\n",
    "slide_title=root.getElementsByTagName('title')[1].childNodes[0].nodeValue\n",
    "slide_point1=root.getElementsByTagName('point')[0].childNodes[0].nodeValue\n",
    "slide_point2=root.getElementsByTagName('point')[1].childNodes[0].nodeValue\n",
    "\n",
    "print(f\"main title is: {main_title}\\n\\\n",
    "slide title is: {slide_title}\\n\\\n",
    "first point is: {slide_point1}\\n\\\n",
    "second point is: {slide_point2}\\n\")"
   ]
  },
  {
   "cell_type": "code",
   "execution_count": 15,
   "id": "0f75a241",
   "metadata": {
    "scrolled": true
   },
   "outputs": [
    {
     "name": "stdout",
     "output_type": "stream",
     "text": [
      "Slide title\n",
      "This is 1st point of 1st slide\n",
      "This is 2nd point of 1st slide\n",
      "Another demo slide\n",
      "This is 1st point of 2nd slide\n",
      "This is 2nd point of 2nd slide\n",
      "This is 3rd point of 2nd slide\n"
     ]
    }
   ],
   "source": [
    "slides=root.getElementsByTagName('slide')\n",
    "for slide in range(len(slides)):\n",
    "    for title in range(len(slides[slide].childNodes)):\n",
    "        for point in range(len(slides[slide].childNodes[title].childNodes)):\n",
    "            print(slides[slide].childNodes[title].childNodes[point].data)\n"
   ]
  },
  {
   "cell_type": "code",
   "execution_count": 16,
   "id": "d511b83a",
   "metadata": {
    "scrolled": true
   },
   "outputs": [
    {
     "name": "stdout",
     "output_type": "stream",
     "text": [
      "Root element : New Arrivals\n",
      "*****Movie*****\n",
      "Title: Enemy Behind\n",
      "Type: War, Thriller\n",
      "Format: DVD\n",
      "Rating: PG\n",
      "Description: Talk about a US-Japan war\n",
      "*****Movie*****\n",
      "Title: Transformers\n",
      "Type: Anime, Science Fiction\n",
      "Format: DVD\n",
      "Rating: R\n",
      "Description: A schientific fiction\n",
      "*****Movie*****\n",
      "Title: Trigun\n",
      "Type: Anime, Action\n",
      "Format: DVD\n",
      "Rating: PG\n",
      "Description: Vash the Stampede!\n",
      "*****Movie*****\n",
      "Title: Ishtar\n",
      "Type: Comedy\n",
      "Format: VHS\n",
      "Rating: PG\n",
      "Description: Viewable boredom\n"
     ]
    }
   ],
   "source": [
    "# Open XML document using minidom parser\n",
    "DOMTree = dom.parse('S:/raw/movies.xml')\n",
    "collection = DOMTree.documentElement\n",
    "if collection.hasAttribute(\"shelf\"):\n",
    "    print (\"Root element : %s\" % collection.getAttribute(\"shelf\"))\n",
    "\n",
    "    \n",
    "    \n",
    "# Get all the movies in the collection\n",
    "movies = collection.getElementsByTagName(\"movie\")\n",
    "\n",
    "# Print detail of each movie.\n",
    "for movie in movies:\n",
    "   print (\"*****Movie*****\")\n",
    "   if movie.hasAttribute(\"title\"):\n",
    "      print (\"Title: %s\" % movie.getAttribute(\"title\"))\n",
    "\n",
    "   type = movie.getElementsByTagName('type')[0]\n",
    "   print (\"Type: %s\" % type.childNodes[0].nodeValue)\n",
    "   format = movie.getElementsByTagName('format')[0]\n",
    "   print (\"Format: %s\" % format.childNodes[0].nodeValue)\n",
    "   rating = movie.getElementsByTagName('rating')[0]\n",
    "   print (\"Rating: %s\" % rating.childNodes[0].nodeValue)\n",
    "   description = movie.getElementsByTagName('description')[0]\n",
    "   print (\"Description: %s\" % description.childNodes[0].nodeValue)\n"
   ]
  }
 ],
 "metadata": {
  "kernelspec": {
   "display_name": "Python 3 (ipykernel)",
   "language": "python",
   "name": "python3"
  },
  "language_info": {
   "codemirror_mode": {
    "name": "ipython",
    "version": 3
   },
   "file_extension": ".py",
   "mimetype": "text/x-python",
   "name": "python",
   "nbconvert_exporter": "python",
   "pygments_lexer": "ipython3",
   "version": "3.9.12"
  }
 },
 "nbformat": 4,
 "nbformat_minor": 5
}
