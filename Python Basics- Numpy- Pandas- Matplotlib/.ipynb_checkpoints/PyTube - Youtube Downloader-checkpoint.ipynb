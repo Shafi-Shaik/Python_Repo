{
 "cells": [
  {
   "cell_type": "code",
   "execution_count": 1,
   "id": "dd67d878-77c1-4cd4-9678-4df00abd4728",
   "metadata": {},
   "outputs": [],
   "source": [
    "import pytube as pt"
   ]
  },
  {
   "cell_type": "markdown",
   "id": "a001aff0-82a4-4b8b-82ec-ca3e90935b67",
   "metadata": {
    "tags": []
   },
   "source": [
    "## To dowload Single Video"
   ]
  },
  {
   "cell_type": "markdown",
   "id": "7d49e775-6e54-466f-931d-dab7a2b2ddae",
   "metadata": {
    "tags": []
   },
   "source": [
    "###### To download the highest resolution video with audio(mostly 720p will have both audio and video). \n",
    "You need to download video and audio individually and merge using available software for resolution higher than 720p "
   ]
  },
  {
   "cell_type": "code",
   "execution_count": 2,
   "id": "511a9c0e-bfe4-4c6f-a2e2-47cba341bb0d",
   "metadata": {},
   "outputs": [],
   "source": [
    "def single_video ():\n",
    "    url=input('Enter url for video link')\n",
    "    streamlist=pt.YouTube(url)\n",
    "    desired=streamlist.streams.get_highest_resolution() \n",
    "    desired.download(folder)"
   ]
  },
  {
   "cell_type": "markdown",
   "id": "4fe11956-d95f-4e1f-a31b-2740f114771e",
   "metadata": {},
   "source": [
    "###### To Download based on your criteria "
   ]
  },
  {
   "cell_type": "code",
   "execution_count": 3,
   "id": "cb739a64-c632-4f11-9cef-9f05b2fe893a",
   "metadata": {},
   "outputs": [],
   "source": [
    "def single_video_with_filter ():\n",
    "    url=input('Enter url for video link')\n",
    "    streamlist=pt.YouTube(url)\n",
    "    desired=streamlist.streams.filter( res='1080p')\n",
    "    desired.first().download()\n",
    "    print('Videos Downloaded Successfully')"
   ]
  },
  {
   "cell_type": "markdown",
   "id": "0d9aa418-dda7-43d5-b825-e324f9380e42",
   "metadata": {
    "tags": []
   },
   "source": [
    "## To dowload Entire Playlist"
   ]
  },
  {
   "cell_type": "markdown",
   "id": "701d1822-0adf-4ced-8d70-1cb2ff848be6",
   "metadata": {
    "tags": []
   },
   "source": [
    "### Get the Information about the Playlist"
   ]
  },
  {
   "cell_type": "code",
   "execution_count": 4,
   "id": "443499c3-0241-4629-86ea-bb76caafb8d8",
   "metadata": {},
   "outputs": [],
   "source": [
    "def playlist_info(playlist):\n",
    "    print('No.of Videos in this Playlist = ',playlist.length)\n",
    "    print('last_updated Date  = ',playlist.last_updated)\n",
    "    print('Channel Link = ',playlist.owner_url)\n",
    "    print('Playlist title= ',playlist.title)\n",
    "    print('Owner of this Playlist = ',playlist.owner)\n",
    "    print('Playlist Link = ',playlist.playlist_url)\n",
    "    print('List of URLs of individual Video of the Playlist',playlist.video_urls)\n",
    "    print('Total Views of the Playlist', playlist.views)"
   ]
  },
  {
   "cell_type": "code",
   "execution_count": 5,
   "id": "e135effc-902d-4f96-817b-eee5f633e86e",
   "metadata": {},
   "outputs": [],
   "source": [
    "def download_playlist():\n",
    "    playlist = input('Enter Playlist URL here: ')\n",
    "    playlist=pt.Playlist(playlist)\n",
    "    playlist_info(playlist)\n",
    "    for video in playlist.videos:\n",
    "        video.streams.get_highest_resolution().download(folder)\n",
    "        print(video.title,' - Video Downloaded Successfully')\n",
    "\n",
    "    print('All Videos Downloaded Successfully')"
   ]
  },
  {
   "cell_type": "code",
   "execution_count": 6,
   "id": "a5b2f58f-e5c5-4404-8200-55707cd9d507",
   "metadata": {},
   "outputs": [
    {
     "name": "stdin",
     "output_type": "stream",
     "text": [
      "folder name to save your Video/Playlist temp\n"
     ]
    },
    {
     "name": "stdout",
     "output_type": "stream",
     "text": [
      "S:/YouTube/temp\n"
     ]
    },
    {
     "name": "stdin",
     "output_type": "stream",
     "text": [
      "Type A or B \n",
      " Do you want to download single video or playlist : A) Single Video  B) Playlist \n",
      "  B\n",
      "Enter Playlist URL here:  https://www.youtube.com/playlist?list=PL_32MQOtnX8FAAY4vDQ2SwRJs203c7Yx6\n"
     ]
    },
    {
     "name": "stdout",
     "output_type": "stream",
     "text": [
      "No.of Videos in this Playlist =  5\n",
      "last_updated Date  =  2022-10-06\n",
      "Channel Link =  https://www.youtube.com/channel/UCNCl2n5YZfUXaxSVL3zqlLA\n",
      "Playlist title=  Srilanka to Mexico\n",
      "Owner of this Playlist =  Nomad Shubham\n",
      "Playlist Link =  https://www.youtube.com/playlist?list=PL_32MQOtnX8FAAY4vDQ2SwRJs203c7Yx6\n",
      "List of URLs of individual Video of the Playlist ['https://www.youtube.com/watch?v=Qj0Ad8h1_-w', 'https://www.youtube.com/watch?v=Jiex_Fqpzaw', 'https://www.youtube.com/watch?v=83oyTCUdE5s', 'https://www.youtube.com/watch?v=uw-zIIMwAgM', 'https://www.youtube.com/watch?v=T0BL7P_uYpI']\n",
      "Total Views of the Playlist 7974\n",
      "Going to SRI LANKA During Crisis  - Video Downloaded Successfully\n",
      "First day in SRI LANKA During Crisis @Nomadic Indian  - Video Downloaded Successfully\n",
      "5 Star Hotel in SRI LANKA For Almost Free during Crisis  - Video Downloaded Successfully\n",
      "Local Market of Sri Lanka During Crisis  - Video Downloaded Successfully\n",
      "Going to 10 Countries in 3 Days  - Video Downloaded Successfully\n",
      "All Videos Downloaded Successfully\n"
     ]
    }
   ],
   "source": [
    "folder='S:/YouTube/'+input('folder name to save your Video/Playlist')\n",
    "print(folder)\n",
    "download_type = input(\"Type A or B \\n Do you want to download single video or playlist : A) Single Video  B) Playlist \\n \")\n",
    "if download_type =='A':\n",
    "    single_video()\n",
    "elif download_type=='B':\n",
    "    download_playlist()\n",
    "else: \n",
    "    print('please type either A or B only, case-sensitive')"
   ]
  },
  {
   "cell_type": "code",
   "execution_count": null,
   "id": "330b4315-f6af-4519-bd0a-fd601903912c",
   "metadata": {},
   "outputs": [],
   "source": [
    "\n"
   ]
  },
  {
   "cell_type": "markdown",
   "id": "30a7f3c0-c3f0-4d3e-b1ce-ef646f0ac78a",
   "metadata": {},
   "source": [
    "For more information on PyTube , Refer Documentation : https://pytube.io/en/latest/index.html#"
   ]
  },
  {
   "cell_type": "markdown",
   "id": "eb38adba-990c-4fc7-9abb-d8426a6b7303",
   "metadata": {},
   "source": [
    "This Notebook is written by Shafi Mohiddin Shaik"
   ]
  }
 ],
 "metadata": {
  "kernelspec": {
   "display_name": "Python 3 (ipykernel)",
   "language": "python",
   "name": "python3"
  },
  "language_info": {
   "codemirror_mode": {
    "name": "ipython",
    "version": 3
   },
   "file_extension": ".py",
   "mimetype": "text/x-python",
   "name": "python",
   "nbconvert_exporter": "python",
   "pygments_lexer": "ipython3",
   "version": "3.10.7"
  }
 },
 "nbformat": 4,
 "nbformat_minor": 5
}
