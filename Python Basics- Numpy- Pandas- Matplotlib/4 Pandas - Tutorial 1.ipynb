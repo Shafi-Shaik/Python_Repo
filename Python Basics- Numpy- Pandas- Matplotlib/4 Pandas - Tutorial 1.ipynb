{
 "cells": [
  {
   "cell_type": "code",
   "execution_count": 1,
   "id": "0f272d0f",
   "metadata": {},
   "outputs": [],
   "source": [
    "import pandas as pd\n",
    "import numpy as np"
   ]
  },
  {
   "cell_type": "markdown",
   "id": "e14ec98e",
   "metadata": {},
   "source": [
    "# <center> 1. Series </center>"
   ]
  },
  {
   "cell_type": "markdown",
   "id": "257e272a",
   "metadata": {},
   "source": [
    "**a. Series from List:**"
   ]
  },
  {
   "cell_type": "code",
   "execution_count": 2,
   "id": "bcbe1851",
   "metadata": {},
   "outputs": [
    {
     "data": {
      "text/plain": [
       "0    22\n",
       "1    35\n",
       "2    45\n",
       "Name: Age, dtype: int64"
      ]
     },
     "execution_count": 2,
     "metadata": {},
     "output_type": "execute_result"
    }
   ],
   "source": [
    "### Series from list\n",
    "ages = pd.Series([22, 35, 45], name=\"Age\") \n",
    "ages"
   ]
  },
  {
   "cell_type": "markdown",
   "id": "2dc68a1e",
   "metadata": {},
   "source": [
    "**b. Series from Dictionary:**"
   ]
  },
  {
   "cell_type": "code",
   "execution_count": 3,
   "id": "f34403d7",
   "metadata": {},
   "outputs": [
    {
     "data": {
      "text/plain": [
       "b    1\n",
       "a    0\n",
       "c    2\n",
       "dtype: int64"
      ]
     },
     "execution_count": 3,
     "metadata": {},
     "output_type": "execute_result"
    }
   ],
   "source": [
    "#Series from dict \n",
    "d = {\"b\": 1, \"a\": 0, \"c\": 2}\n",
    "pd.Series(d)"
   ]
  },
  {
   "cell_type": "markdown",
   "id": "17def63b",
   "metadata": {},
   "source": [
    "**c. Series from Scalar Value:**"
   ]
  },
  {
   "cell_type": "code",
   "execution_count": 4,
   "id": "3b082de5",
   "metadata": {
    "scrolled": true
   },
   "outputs": [
    {
     "data": {
      "text/plain": [
       "a    5.0\n",
       "b    5.0\n",
       "c    5.0\n",
       "d    5.0\n",
       "e    5.0\n",
       "dtype: float64"
      ]
     },
     "execution_count": 4,
     "metadata": {},
     "output_type": "execute_result"
    }
   ],
   "source": [
    "#from scalar :If data is a scalar value, an index must be provided. The value will be repeated to match the length of index.\n",
    "\n",
    "pd.Series(5.0, index=[\"a\", \"b\", \"c\", \"d\", \"e\"])"
   ]
  },
  {
   "cell_type": "markdown",
   "id": "630cd4d5",
   "metadata": {},
   "source": [
    "**d. Series from Numpy Array (ndarray):**"
   ]
  },
  {
   "cell_type": "code",
   "execution_count": 5,
   "id": "1b5ca303",
   "metadata": {
    "scrolled": true
   },
   "outputs": [
    {
     "data": {
      "text/plain": [
       "s1    1.0\n",
       "s2    3.0\n",
       "s3    4.0\n",
       "s4    5.0\n",
       "s5    NaN\n",
       "s6    3.0\n",
       "dtype: float64"
      ]
     },
     "execution_count": 5,
     "metadata": {},
     "output_type": "execute_result"
    }
   ],
   "source": [
    "# from ndarray(numpy array): \n",
    "\n",
    "arr = np.array([1,3,4,5,np.nan,3])\n",
    "pd.Series(arr,index=['s1','s2','s3','s4','s5','s6'])"
   ]
  },
  {
   "cell_type": "markdown",
   "id": "c7f27019",
   "metadata": {},
   "source": [
    "> **Some basic calculations on series**"
   ]
  },
  {
   "cell_type": "code",
   "execution_count": 6,
   "id": "0bb040ef",
   "metadata": {
    "scrolled": true
   },
   "outputs": [
    {
     "data": {
      "text/plain": [
       "(45, 22, 102, 34.0, 35.0, 3)"
      ]
     },
     "execution_count": 6,
     "metadata": {},
     "output_type": "execute_result"
    }
   ],
   "source": [
    "ages.max(), ages.min(),ages.sum(),ages.mean(),ages.median(),ages.count()"
   ]
  },
  {
   "cell_type": "markdown",
   "id": "ac0883e7",
   "metadata": {},
   "source": [
    "# <center> 2. DataFrame </center>"
   ]
  },
  {
   "cell_type": "markdown",
   "id": "7d86655e",
   "metadata": {},
   "source": [
    "**a. DataFrame from Tuple/List:**"
   ]
  },
  {
   "cell_type": "code",
   "execution_count": 7,
   "id": "3235fc71",
   "metadata": {},
   "outputs": [
    {
     "data": {
      "text/html": [
       "<div>\n",
       "<style scoped>\n",
       "    .dataframe tbody tr th:only-of-type {\n",
       "        vertical-align: middle;\n",
       "    }\n",
       "\n",
       "    .dataframe tbody tr th {\n",
       "        vertical-align: top;\n",
       "    }\n",
       "\n",
       "    .dataframe thead tr th {\n",
       "        text-align: left;\n",
       "    }\n",
       "</style>\n",
       "<table border=\"1\" class=\"dataframe\">\n",
       "  <thead>\n",
       "    <tr>\n",
       "      <th></th>\n",
       "      <th></th>\n",
       "      <th colspan=\"3\" halign=\"left\">a</th>\n",
       "      <th colspan=\"2\" halign=\"left\">b</th>\n",
       "    </tr>\n",
       "    <tr>\n",
       "      <th></th>\n",
       "      <th></th>\n",
       "      <th>b</th>\n",
       "      <th>a</th>\n",
       "      <th>c</th>\n",
       "      <th>a</th>\n",
       "      <th>b</th>\n",
       "    </tr>\n",
       "  </thead>\n",
       "  <tbody>\n",
       "    <tr>\n",
       "      <th rowspan=\"3\" valign=\"top\">A</th>\n",
       "      <th>B</th>\n",
       "      <td>1.0</td>\n",
       "      <td>4.0</td>\n",
       "      <td>5.0</td>\n",
       "      <td>8.0</td>\n",
       "      <td>10.0</td>\n",
       "    </tr>\n",
       "    <tr>\n",
       "      <th>C</th>\n",
       "      <td>2.0</td>\n",
       "      <td>3.0</td>\n",
       "      <td>6.0</td>\n",
       "      <td>7.0</td>\n",
       "      <td>NaN</td>\n",
       "    </tr>\n",
       "    <tr>\n",
       "      <th>D</th>\n",
       "      <td>NaN</td>\n",
       "      <td>NaN</td>\n",
       "      <td>NaN</td>\n",
       "      <td>NaN</td>\n",
       "      <td>9.0</td>\n",
       "    </tr>\n",
       "  </tbody>\n",
       "</table>\n",
       "</div>"
      ],
      "text/plain": [
       "       a              b      \n",
       "       b    a    c    a     b\n",
       "A B  1.0  4.0  5.0  8.0  10.0\n",
       "  C  2.0  3.0  6.0  7.0   NaN\n",
       "  D  NaN  NaN  NaN  NaN   9.0"
      ]
     },
     "execution_count": 7,
     "metadata": {},
     "output_type": "execute_result"
    }
   ],
   "source": [
    "#DF from dict of tuples:\n",
    "pd.DataFrame(\n",
    "    {\n",
    "        (\"a\", \"b\"): {(\"A\", \"B\"): 1, (\"A\", \"C\"): 2},\n",
    "        (\"a\", \"a\"): {(\"A\", \"C\"): 3, (\"A\", \"B\"): 4},\n",
    "        (\"a\", \"c\"): {(\"A\", \"B\"): 5, (\"A\", \"C\"): 6},\n",
    "        (\"b\", \"a\"): {(\"A\", \"C\"): 7, (\"A\", \"B\"): 8},\n",
    "        (\"b\", \"b\"): {(\"A\", \"D\"): 9, (\"A\", \"B\"): 10},\n",
    "    }\n",
    ")\n",
    "\n",
    "#        a              b      \n",
    "#        b    a    c    a     b\n",
    "# A B  1.0  4.0  5.0  8.0  10.0\n",
    "#   C  2.0  3.0  6.0  7.0   NaN\n",
    "#   D  NaN  NaN  NaN  NaN   9.0"
   ]
  },
  {
   "cell_type": "markdown",
   "id": "ad1b0636",
   "metadata": {},
   "source": [
    "**b. DataFrame from Dict:**"
   ]
  },
  {
   "cell_type": "code",
   "execution_count": 8,
   "id": "1a42ce51",
   "metadata": {},
   "outputs": [
    {
     "data": {
      "text/html": [
       "<div>\n",
       "<style scoped>\n",
       "    .dataframe tbody tr th:only-of-type {\n",
       "        vertical-align: middle;\n",
       "    }\n",
       "\n",
       "    .dataframe tbody tr th {\n",
       "        vertical-align: top;\n",
       "    }\n",
       "\n",
       "    .dataframe thead th {\n",
       "        text-align: right;\n",
       "    }\n",
       "</style>\n",
       "<table border=\"1\" class=\"dataframe\">\n",
       "  <thead>\n",
       "    <tr style=\"text-align: right;\">\n",
       "      <th></th>\n",
       "      <th>one</th>\n",
       "      <th>two</th>\n",
       "    </tr>\n",
       "  </thead>\n",
       "  <tbody>\n",
       "    <tr>\n",
       "      <th>a</th>\n",
       "      <td>1.0</td>\n",
       "      <td>1.0</td>\n",
       "    </tr>\n",
       "    <tr>\n",
       "      <th>b</th>\n",
       "      <td>2.0</td>\n",
       "      <td>2.0</td>\n",
       "    </tr>\n",
       "    <tr>\n",
       "      <th>c</th>\n",
       "      <td>NaN</td>\n",
       "      <td>3.0</td>\n",
       "    </tr>\n",
       "    <tr>\n",
       "      <th>d</th>\n",
       "      <td>3.0</td>\n",
       "      <td>4.0</td>\n",
       "    </tr>\n",
       "  </tbody>\n",
       "</table>\n",
       "</div>"
      ],
      "text/plain": [
       "   one  two\n",
       "a  1.0  1.0\n",
       "b  2.0  2.0\n",
       "c  NaN  3.0\n",
       "d  3.0  4.0"
      ]
     },
     "execution_count": 8,
     "metadata": {},
     "output_type": "execute_result"
    }
   ],
   "source": [
    "# DataFrame from dicts or series\n",
    "d = {\n",
    "    \"one\": pd.Series([1.0, 2.0, 3.0], index=[\"a\", \"b\", \"d\"]),\n",
    "    \"two\": pd.Series([1.0, 2.0, 3.0, 4.0], index=[\"a\", \"b\", \"c\", \"d\"]),\n",
    "}\n",
    "\n",
    "\n",
    "df = pd.DataFrame(d)\n",
    "\n",
    "df"
   ]
  },
  {
   "cell_type": "markdown",
   "id": "857e498c",
   "metadata": {},
   "source": [
    "**c. DataFrame from Numpy Array (ndarray):**"
   ]
  },
  {
   "cell_type": "code",
   "execution_count": 9,
   "id": "33932e30",
   "metadata": {
    "scrolled": true
   },
   "outputs": [],
   "source": [
    "#DataFrame from ND-Arrays:\n",
    "arr1= np.array([1.0, 2.0, 3.0, 4.0])\n",
    "arr2= np.array([4.0, 3.0, 2.0, 1.0])\n",
    "\n",
    "df1 =pd.DataFrame(data= (arr1,arr2))\n",
    "df1\n",
    "\n",
    "#      0    1     2    3\n",
    "# 0   1.0  2.0  3.0  4.0\n",
    "# 1   4.0  3.0  2.0  1.0\n",
    "\n",
    "dict1= {\"one\": arr1,\"two\":arr2}\n",
    "df2 = pd.DataFrame(dict1)\n",
    "df2\n",
    "#    one  two\n",
    "# 0  1.0  4.0\n",
    "# 1  2.0  3.0\n",
    "# 2  3.0  2.0\n",
    "# 3  4.0  1.0\n",
    "\n",
    "\n",
    "#changing row labels\n",
    "df2.index=([\"a\", \"b\", \"c\", \"d\"])\n",
    "#    one  two\n",
    "# a  1.0  4.0\n",
    "# b  2.0  3.0\n",
    "# c  3.0  2.0\n",
    "# d  4.0  1.0\n",
    "\n",
    "#changing column labels\n",
    "df2.columns=([\"col1\", \"col2\"])\n",
    "#    col1  col2\n",
    "# a  1.0  4.0\n",
    "# b  2.0  3.0\n",
    "# c  3.0  2.0\n",
    "# d  4.0  1.0"
   ]
  },
  {
   "cell_type": "markdown",
   "id": "270d1b50",
   "metadata": {},
   "source": [
    "**d. DataFrame From a _DICT of Lists_:**"
   ]
  },
  {
   "cell_type": "code",
   "execution_count": 10,
   "id": "3d45b6bb",
   "metadata": {
    "scrolled": true
   },
   "outputs": [
    {
     "data": {
      "text/html": [
       "<div>\n",
       "<style scoped>\n",
       "    .dataframe tbody tr th:only-of-type {\n",
       "        vertical-align: middle;\n",
       "    }\n",
       "\n",
       "    .dataframe tbody tr th {\n",
       "        vertical-align: top;\n",
       "    }\n",
       "\n",
       "    .dataframe thead th {\n",
       "        text-align: right;\n",
       "    }\n",
       "</style>\n",
       "<table border=\"1\" class=\"dataframe\">\n",
       "  <thead>\n",
       "    <tr style=\"text-align: right;\">\n",
       "      <th></th>\n",
       "      <th>Name</th>\n",
       "      <th>Age</th>\n",
       "      <th>Sex</th>\n",
       "    </tr>\n",
       "  </thead>\n",
       "  <tbody>\n",
       "    <tr>\n",
       "      <th>0</th>\n",
       "      <td>Braund, Mr. Owen Harris</td>\n",
       "      <td>22.0</td>\n",
       "      <td>male</td>\n",
       "    </tr>\n",
       "    <tr>\n",
       "      <th>1</th>\n",
       "      <td>Allen, Mr. William Henry</td>\n",
       "      <td>35.0</td>\n",
       "      <td>male</td>\n",
       "    </tr>\n",
       "    <tr>\n",
       "      <th>2</th>\n",
       "      <td>Bonnell, Miss. Elizabeth</td>\n",
       "      <td>NaN</td>\n",
       "      <td>female</td>\n",
       "    </tr>\n",
       "  </tbody>\n",
       "</table>\n",
       "</div>"
      ],
      "text/plain": [
       "                       Name   Age     Sex\n",
       "0   Braund, Mr. Owen Harris  22.0    male\n",
       "1  Allen, Mr. William Henry  35.0    male\n",
       "2  Bonnell, Miss. Elizabeth   NaN  female"
      ]
     },
     "execution_count": 10,
     "metadata": {},
     "output_type": "execute_result"
    }
   ],
   "source": [
    "df = pd.DataFrame(\n",
    "    {\n",
    "        \"Name\": [\"Braund, Mr. Owen Harris\",\"Allen, Mr. William Henry\",\"Bonnell, Miss. Elizabeth\",],\n",
    "        \"Age\": [22, 35,None],               #must have equal no.of values in all columns\n",
    "        \"Sex\": [\"male\", \"male\", \"female\"],\n",
    "    }\n",
    ")\n",
    "\n",
    "df\n"
   ]
  },
  {
   "cell_type": "markdown",
   "id": "9f39a81a",
   "metadata": {},
   "source": [
    "> *Written by Shafi*\n",
    "  > [Refer Documentation](https://pandas.pydata.org/docs/getting_started/comparison/comparison_with_sql.html)"
   ]
  }
 ],
 "metadata": {
  "kernelspec": {
   "display_name": "Python 3 (ipykernel)",
   "language": "python",
   "name": "python3"
  },
  "language_info": {
   "codemirror_mode": {
    "name": "ipython",
    "version": 3
   },
   "file_extension": ".py",
   "mimetype": "text/x-python",
   "name": "python",
   "nbconvert_exporter": "python",
   "pygments_lexer": "ipython3",
   "version": "3.9.12"
  }
 },
 "nbformat": 4,
 "nbformat_minor": 5
}
