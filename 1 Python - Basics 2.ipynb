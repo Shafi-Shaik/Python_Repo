{
 "cells": [
  {
   "cell_type": "markdown",
   "id": "14e85e7f",
   "metadata": {},
   "source": [
    "## <center>  Python Classes and Objects</center> "
   ]
  },
  {
   "cell_type": "code",
   "execution_count": 1,
   "id": "d6b15395",
   "metadata": {},
   "outputs": [
    {
     "name": "stdout",
     "output_type": "stream",
     "text": [
      "HI, This is a class \n"
     ]
    }
   ],
   "source": [
    "class  P1:\n",
    "    x=\"HI, This is a class \"   \n",
    "print(P1.x) #Tell about status of class.\n"
   ]
  },
  {
   "cell_type": "code",
   "execution_count": 2,
   "id": "fdd01eb5",
   "metadata": {},
   "outputs": [
    {
     "name": "stdout",
     "output_type": "stream",
     "text": [
      "This is a Nokia phone of RED color and its price is 10000rs\n",
      "This is a Asus phone of Black color and its price is 12000rs\n"
     ]
    }
   ],
   "source": [
    "# Class & Objects\n",
    "class Phone():\n",
    "        Color=\" \"\n",
    "        Price =00\n",
    "        Type=\" \"\n",
    "ob1=Phone()#Creation of objects and assinging it to class phone.\n",
    "ob2=Phone()\n",
    "ob1.Color=\"RED\"\n",
    "ob1.Price=10000\n",
    "ob1.Type=\"Nokia\"\n",
    "ob2.Color=\"Black\"\n",
    "ob2.Price=12000\n",
    "ob2.Type=\"Asus\"\n",
    "print(\"This is a %s phone of %s color and its price is %drs\"%(ob1.Type,ob1.Color,ob1.Price))\n",
    "print(\"This is a %s phone of %s color and its price is %drs\"%(ob2.Type,ob2.Color,ob2.Price))\n"
   ]
  },
  {
   "cell_type": "code",
   "execution_count": 12,
   "id": "5f7c0af6",
   "metadata": {},
   "outputs": [
    {
     "name": "stdout",
     "output_type": "stream",
     "text": [
      "{'x': 'age', 'y': 'name', 'z': 'Gender'}\n"
     ]
    }
   ],
   "source": [
    "# dictionary from an class's fields.\n",
    "class dObj():\n",
    "     def __init__(self):\n",
    "         self.x = 'age'\n",
    "         self.y = 'name'\n",
    "         self.z = 'Gender'\n",
    "     def do(self):\n",
    "         pass\n",
    "d = dObj()\n",
    "print(d.__dict__)"
   ]
  },
  {
   "cell_type": "markdown",
   "id": "66b92fc8",
   "metadata": {},
   "source": [
    "## <center> Parse Json or Dictionary from string </center> "
   ]
  },
  {
   "cell_type": "code",
   "execution_count": 4,
   "id": "ccbfc3d0",
   "metadata": {},
   "outputs": [
    {
     "name": "stdout",
     "output_type": "stream",
     "text": [
      "person_dict =  {'name': 'Bob', 'languages': ['English', 'Fench']}\n",
      "Fetch only Languages = ['English', 'Fench']\n"
     ]
    }
   ],
   "source": [
    "import json\n",
    "\n",
    "person = '{\"name\": \"Bob\", \"languages\": [\"English\", \"Fench\"]}' # type would be str\n",
    "person_dict = json.loads(person) # converting to dict type\n",
    "\n",
    "\n",
    "print('person_dict = ' ,person_dict)\n",
    "# Output: {'name': 'Bob', 'languages': ['English', 'Fench']}\n",
    "\n",
    "print('Fetch only Languages =',person_dict['languages'])\n",
    "# Output: ['English', 'French']"
   ]
  },
  {
   "cell_type": "code",
   "execution_count": 18,
   "id": "9d53556a",
   "metadata": {},
   "outputs": [
    {
     "name": "stdout",
     "output_type": "stream",
     "text": [
      "--------------------------------------------------\n",
      "Set1 = {40, 10, 20, 30} \n",
      "Set2 ={11, 12, 30}\n",
      "--------------------------------------------------\n",
      " 1. union of set1 & set2:  {20, 40, 10, 11, 12, 30}\n",
      "--------------------------------------------------\n",
      "2. Intersection of set1 & set2:  {30}\n",
      "--------------------------------------------------\n",
      "3. difference between set1 & 2 : {40, 10, 20}\n",
      "--------------------------------------------------\n",
      "4. symmettric diffrernce set 1 & 2 {40, 10, 11, 12, 20}\n"
     ]
    }
   ],
   "source": [
    "set1={10,20,30,40}\n",
    "set2={11,12,30}\n",
    "print(\"-\"*50)\n",
    "\n",
    "print(f'Set1 = {set1} \\nSet2 ={set2}')\n",
    "print(\"-\"*50)\n",
    "\n",
    "\n",
    "print(\" 1. union of set1 & set2: \", set1|set2 )\n",
    "print(\"-\"*50)\n",
    "\n",
    "print(\"2. Intersection of set1 & set2: \", set1&set2)\n",
    "print(\"-\"*50)\n",
    "\n",
    "\n",
    "print(\"3. difference between set1 & 2 :\",set1-set2)\n",
    "print(\"-\"*50)\n",
    "\n",
    "\n",
    "print(\"4. symmettric diffrernce set 1 & 2\",set1^set2)"
   ]
  },
  {
   "cell_type": "code",
   "execution_count": 68,
   "id": "546a95c3",
   "metadata": {
    "scrolled": true
   },
   "outputs": [
    {
     "name": "stdout",
     "output_type": "stream",
     "text": [
      "{'apple', 'cherry', 'banana', 'google', 'microsoft'}\n"
     ]
    }
   ],
   "source": [
    "x = {\"apple\", \"banana\", \"cherry\"}\n",
    "y = {\"google\", \"microsoft\", \"apple\"}\n",
    "\n",
    "x.update(y) \n",
    "\n",
    "print(x)"
   ]
  }
 ],
 "metadata": {
  "kernelspec": {
   "display_name": "Python 3 (ipykernel)",
   "language": "python",
   "name": "python3"
  },
  "language_info": {
   "codemirror_mode": {
    "name": "ipython",
    "version": 3
   },
   "file_extension": ".py",
   "mimetype": "text/x-python",
   "name": "python",
   "nbconvert_exporter": "python",
   "pygments_lexer": "ipython3",
   "version": "3.9.12"
  }
 },
 "nbformat": 4,
 "nbformat_minor": 5
}
